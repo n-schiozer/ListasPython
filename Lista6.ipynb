{
 "cells": [
  {
   "cell_type": "markdown",
   "id": "c6765994-bf48-45bf-a93a-03de78c58420",
   "metadata": {},
   "source": [
    "# Lista 6 - Métodos computacionais para economistas"
   ]
  },
  {
   "cell_type": "markdown",
   "id": "2ba90d2e-58af-46b6-a73d-ad53864ffca9",
   "metadata": {},
   "source": [
    "Lista de exercícios para praticar funções dos pacotes Python estudados em aula, Numpy, SciPy, Pandas e Mathplotlib\n",
    "\n",
    "**Lista de exercícios para praticar funções dos pacotes Python estudados em aula.**\n",
    "\n",
    "Monitor: Nikolas Schiozer\n",
    "\n",
    "E-mail: nikolas.s@usp.br"
   ]
  },
  {
   "cell_type": "markdown",
   "id": "0277c2c2-22c7-4f12-8cdc-f8b2b2b8855d",
   "metadata": {},
   "source": [
    "***Exercícios Numpy***"
   ]
  },
  {
   "cell_type": "markdown",
   "id": "018ac706-0076-4e30-b56e-105783555507",
   "metadata": {},
   "source": [
    "**Exercício 1**"
   ]
  },
  {
   "cell_type": "markdown",
   "id": "d12f9717-ec57-4e75-9ecb-0224933a3121",
   "metadata": {},
   "source": [
    "Abaixo temos uma matriz A,B e C. Realize as seguintes operações:\n",
    "* Some a matriz A com B com o método \"add\"\n",
    "* Multiplique o resultado do item anterior por C com o método \"dot\"\n",
    "* Verifique se a matriz anterior possui determinante diferente de 0 usando método visto em aula\n",
    "* Se o determinante for diferente de 0, calcule a matriz inversa obtida pelo item anterior usando método visto em aula"
   ]
  },
  {
   "cell_type": "code",
   "execution_count": 170,
   "id": "6c3bdf09-043e-4013-82e6-7df40e22b1cc",
   "metadata": {},
   "outputs": [],
   "source": [
    "A = [[1,2],[3,4]]\n",
    "B = [[4,5],[6,7]]\n",
    "C = [[1.2,0.8],[0.2,1]]"
   ]
  },
  {
   "cell_type": "markdown",
   "id": "43659cd2-96a3-41ef-9f7d-5a1857cebbcd",
   "metadata": {},
   "source": [
    "**Exercício 2**"
   ]
  },
  {
   "cell_type": "markdown",
   "id": "86f07974-5537-416a-b9ad-0e236aa30e6e",
   "metadata": {},
   "source": [
    "Obtenha os números das linhas da matriz numpy abaixo que têm pelo menos um item maior do que um valor especificado X. Para fazer o exercício, use as funções numpy.where() e numpy.any()."
   ]
  },
  {
   "cell_type": "code",
   "execution_count": 171,
   "id": "a5daeaf8-fcc6-4f91-a951-441a5d73b3cf",
   "metadata": {},
   "outputs": [],
   "source": [
    "# importing library\n",
    "import numpy\n",
    "  \n",
    "# create numpy array\n",
    "arr = numpy.array([[1, 2, 3, 4, 5],\n",
    "                  [10, -3, 30, 4, 5],\n",
    "                  [3, 2, 5, -4, 5],\n",
    "                  [9, 7, 3, 6, 5] \n",
    "                 ])\n",
    "  \n",
    "# declare specified value\n",
    "X = 6"
   ]
  },
  {
   "cell_type": "markdown",
   "id": "5a107e24-cf28-43c2-a6fb-25f389ea5d96",
   "metadata": {},
   "source": [
    "**Exercício 3**"
   ]
  },
  {
   "cell_type": "markdown",
   "id": "b12e0b32-3aa4-4b3a-9d69-96c1e312c71b",
   "metadata": {},
   "source": [
    "numpy.matlib.rand() e numpy.matlib.randn() são outras funções para fazer operações matriciais em numpy. Elas retornam uma matriz de valores aleatórios de uma distribuição uniforme sobre [0, 1] e normal com determinada forma. Abaixo obtenha uma matriz 3 x 4 com valores aleatórios obtidos de uma distribuição uniforme e uma matriz 10 x 10 com valores obtidos de uma distribuição normal."
   ]
  },
  {
   "cell_type": "code",
   "execution_count": null,
   "id": "6f2a171d-213b-41d4-b8d7-e0b4a1481188",
   "metadata": {},
   "outputs": [],
   "source": []
  },
  {
   "cell_type": "markdown",
   "id": "c3d190dc-b0c2-4cb6-be82-961e4c9d411b",
   "metadata": {},
   "source": [
    "***Exercícios SciPy***"
   ]
  },
  {
   "cell_type": "markdown",
   "id": "0594a8f6-807e-4c1f-91ff-be84f2df408c",
   "metadata": {},
   "source": [
    "**Exercício 1**"
   ]
  },
  {
   "cell_type": "markdown",
   "id": "e405af95-49a8-4c99-8d41-6580c5564298",
   "metadata": {},
   "source": [
    "Integre a função $x^2 + x + 2$ utilizando a função \"quad\" da biblioteca \"Scipy\", definida no intervalor de $[0,100]$."
   ]
  },
  {
   "cell_type": "code",
   "execution_count": null,
   "id": "fc2fc49b-0590-4493-b21a-b100e913f366",
   "metadata": {},
   "outputs": [],
   "source": []
  },
  {
   "cell_type": "markdown",
   "id": "e0666ae7-6e69-450c-83cd-c10136780b73",
   "metadata": {},
   "source": [
    "**Exercício 2**"
   ]
  },
  {
   "cell_type": "markdown",
   "id": "b7ad17dd-7821-46bc-8008-04df1c6debd1",
   "metadata": {},
   "source": [
    "Minimize a equação $x^2 + 30x - 100$ utilizando a função \"minimize\" da biblioteca \"Scipy\", utilizando o algortimo 'BFGS'. Dê como resposta um print do valor encontrado."
   ]
  },
  {
   "cell_type": "code",
   "execution_count": null,
   "id": "89bd0f1a-57fd-4d62-b833-a36db3f6fb0f",
   "metadata": {},
   "outputs": [],
   "source": []
  },
  {
   "cell_type": "markdown",
   "id": "aac53c2d-24b9-458d-a8eb-51589fd5ea31",
   "metadata": {},
   "source": [
    "***Exercícios Pandas***"
   ]
  },
  {
   "cell_type": "markdown",
   "id": "2001dbea-0938-4b7e-b9a6-3de985503016",
   "metadata": {},
   "source": [
    "**Exercício 1**"
   ]
  },
  {
   "cell_type": "markdown",
   "id": "d2ba20ff-cb30-4694-aed2-b54327be0254",
   "metadata": {},
   "source": [
    "Abaixo temos 4 listas com algunas informações sobre as partidas da Copa do Mundo até o dia 23/11. Temos o nome das seleções que já fizeram suas primeiras partidas, número de vitárias, pontos ganhos e saldo de gols. Junte as quatro listas em um data.frame do Pandas."
   ]
  },
  {
   "cell_type": "code",
   "execution_count": 172,
   "id": "4958d37d-13d0-48b3-a2b0-b9a72cb0f12c",
   "metadata": {},
   "outputs": [],
   "source": [
    "Times = ['Argentina','Australia','Belgium','Canada','Costa Rica','Croatia','Denmark','Ecuador','England','France','Germany','Iran','Japan','Mexico','Morocco','Netherlands','Poland','Qatar','Saudi Arabia','Senegal','Spain','Tunisia','United States','Wales']\n",
    "Continente = ['Am.Sul','Oceania','Europa','Am.Norte','Am.Norte','Europa','Europa','Am.Sul','Europa','Europa','Europa','Asia','Asia','Am.Norte','Africa','Europa','Europa','Asia','Asia','Africa','Europa','Africa','Am.Norte','Europa']\n",
    "V = [0,0,1,0,0,0,0,1,1,1,0,0,1,0,0,1,0,0,1,0,1,0,0,0]\n",
    "Pts = [0,0,3,0,0,1,1,3,3,3,0,0,3,1,1,3,1,0,3,0,3,1,1,1]\n",
    "SD = [-1,-3,1,-1,-7,0,0,2,4,3,-1,-4,1,0,0,2,0,-2,1,-2,7,0,0,0]\n",
    "\n",
    "\n",
    "\n"
   ]
  },
  {
   "cell_type": "markdown",
   "id": "6741e970-c96f-47b1-92c3-06af0beb3839",
   "metadata": {},
   "source": [
    "**Exercício 2**"
   ]
  },
  {
   "cell_type": "markdown",
   "id": "492150b4-5658-4b2c-b1db-5cd11ccaf8d6",
   "metadata": {},
   "source": [
    "Vamos realizar algumas mudanças no nosso data.frame.\n",
    "\n",
    "* Substitua o título das colunas para \"Seleções\", \"Continente\", \"Vitórias\", \"Pontos\" e \"SdG\".\n",
    "* Na primeira coluna, deixa todos os caracteres maiúsculos. Na segunda, minúsculos. \n",
    "* Crie uma nova coluna, chamada Soma, que é o resultado da soma dos valores das colunas vitórias, pontos e saldo de gols. \n",
    "* Crie uma nova coluna em que, se o valor de Soma estiver no quartil inferior, na coluna temos um booleano TRUE. Caso contrário, FALSE."
   ]
  },
  {
   "cell_type": "code",
   "execution_count": null,
   "id": "2f06610f-4b39-49ac-a331-6de4ba71f22d",
   "metadata": {},
   "outputs": [],
   "source": []
  },
  {
   "cell_type": "markdown",
   "id": "0a7aea3a-fa84-44e0-8703-ba7655914ddb",
   "metadata": {},
   "source": [
    "**Exercício 3**"
   ]
  },
  {
   "cell_type": "markdown",
   "id": "9c1bbeba-7aac-4516-ac14-b7d502a401ac",
   "metadata": {},
   "source": [
    "A que continente pertencem os 5 países que apresentam o maior saldo de gols (SD) até o dia 23/11? Crie um novo data.frame que contenha apenas as linhas com estes 5 países e as colunas com nome \"Seleções\",\"Vitórias\" e Pontos\". "
   ]
  },
  {
   "cell_type": "code",
   "execution_count": null,
   "id": "c51f2f2e-1a6d-48bf-a387-5fb95e2dfd55",
   "metadata": {},
   "outputs": [],
   "source": [
    "\n"
   ]
  }
 ],
 "metadata": {
  "kernelspec": {
   "display_name": "Python 3 (ipykernel)",
   "language": "python",
   "name": "python3"
  },
  "language_info": {
   "codemirror_mode": {
    "name": "ipython",
    "version": 3
   },
   "file_extension": ".py",
   "mimetype": "text/x-python",
   "name": "python",
   "nbconvert_exporter": "python",
   "pygments_lexer": "ipython3",
   "version": "3.9.12"
  }
 },
 "nbformat": 4,
 "nbformat_minor": 5
}
