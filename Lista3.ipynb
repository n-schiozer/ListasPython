{
 "cells": [
  {
   "cell_type": "markdown",
   "id": "c6765994-bf48-45bf-a93a-03de78c58420",
   "metadata": {},
   "source": [
    "# Lista 3 - Métodos computacionais para economistas"
   ]
  },
  {
   "cell_type": "markdown",
   "id": "b2748a9f-0615-4ad2-be58-55cd0c942d35",
   "metadata": {},
   "source": [
    "*NOME:*\n",
    "\n",
    "*NUSP:*\n",
    "\n",
    "*EMAIL:*"
   ]
  },
  {
   "cell_type": "markdown",
   "id": "f405693b-3426-4676-8301-034113253537",
   "metadata": {},
   "source": [
    "______________________________________________________________\n",
    "**Informações gerais**\n",
    "\n",
    "**PRAZO DE ENTREGA**: ATÉ 23:59 DO DIA 29/09\n",
    "\n",
    "A entrega deve ser esta lista, com as respostas preenchidas nos espaços disponíveis, em formato **HTML**. Para salvar o arquivo dessa forma, a partir de \"File\", clique em \"Save and Export Notebook as ...\". Selecione a opção HTML.\n",
    "\n",
    "### Não serão aceitos arquivos que não estejam em formato HTML.\n",
    "\n",
    "### Não serão aceitas entregas por email, apenas pelo *MOODLE*.\n",
    "\n",
    "Prazo para enviar dúvidas/questionamentos/contestações/etc sobre enunciados ou qualquer outra coisa sobre esta lista: 23:59 DO DIA 27/09\n",
    "\n",
    "Monitor: Nikolas Schiozer\n",
    "\n",
    "E-mail: nikolas.s@usp.br\n",
    "________________________________________________________________\n"
   ]
  },
  {
   "cell_type": "markdown",
   "id": "0277c2c2-22c7-4f12-8cdc-f8b2b2b8855d",
   "metadata": {},
   "source": [
    "**Exercício 1**"
   ]
  },
  {
   "cell_type": "markdown",
   "id": "5a107e24-cf28-43c2-a6fb-25f389ea5d96",
   "metadata": {},
   "source": [
    "**Exercício 1.1**"
   ]
  },
  {
   "cell_type": "markdown",
   "id": "b12e0b32-3aa4-4b3a-9d69-96c1e312c71b",
   "metadata": {},
   "source": [
    "Você é responsável pelo gerenciamento da folha salarial de uma pequena empresa. As informações dos colaboladores devem ser salvas em uma variável sequencial do tipo dicionário. Defina um dicionário com as seguintes chaves-valor: chave[1]: nome. Valor[1]: Maria, João, Luisa, Pedro. chave[2]: sobrenome. Valor[2]:Garcia,Magalhães,da Silva,Rossi. Chave[3]: salário. Valor[3]: 1200,1100,1000,900\n",
    "\n",
    "Escreva um código que como output deve aparecer \"O salário de 'nome''sobrenome' é de R$ 'salário'\". O código deve permitir que apenas alterando a definição da variável ID me permita gerar frases diferentes para cada um dos funcionários. \n",
    "Exemplo: Para ID = 3 a frase que deve aparecer é \"O salário de Luisa da Silva é 1000\". Dê como resposta um output que gere o exemplo sugerido."
   ]
  },
  {
   "cell_type": "code",
   "execution_count": 198,
   "id": "89bd0f1a-57fd-4d62-b833-a36db3f6fb0f",
   "metadata": {},
   "outputs": [
    {
     "name": "stdout",
     "output_type": "stream",
     "text": [
      "O salário de Luisa da Silva é de R$ 1000\n"
     ]
    }
   ],
   "source": []
  },
  {
   "cell_type": "markdown",
   "id": "a7ec479d-928d-4cc6-b68b-dc6759346b89",
   "metadata": {},
   "source": [
    "**Exercício 1.2**"
   ]
  },
  {
   "cell_type": "markdown",
   "id": "9c1b94a5-f840-4dad-bced-5b7d6d575738",
   "metadata": {},
   "source": [
    "Foi decidido que Pedro Rossi teria um aumento salarial e que o valor de seu novo salário deve ser igual ao salário média dos outros três funcionários.\n",
    "Calcule a média salarial do conjunto dos funcionários menos Pedro.\n",
    "\n",
    "Atualize o salário de Pedro dentro do dicionário *d* sem escrever diretamente, apenas objetos. Como resposta forneça output da frase: \"O novo salário de Pedro Rossi é de R$ (valor do salário)\"."
   ]
  },
  {
   "cell_type": "code",
   "execution_count": 199,
   "id": "ec2cc79c-3aed-4478-842a-1f35b74ba690",
   "metadata": {},
   "outputs": [
    {
     "name": "stdout",
     "output_type": "stream",
     "text": [
      "1100.0\n",
      "3\n",
      "O novo salário de Pedro Rossi é de R$ 1100.0\n"
     ]
    }
   ],
   "source": []
  },
  {
   "cell_type": "markdown",
   "id": "c0f5f196-dcd6-45a8-9f01-b5cd8ce03812",
   "metadata": {},
   "source": [
    "**Exercício 1.3**\n",
    "\n",
    "Vamos agora desenvolver um código simples para simular a dinâmica salarial dentro da empresa. \n",
    "\n",
    "Vamos supor que em cada período da simulação (um ciclo do loop) o funcionário com o menor salário terá o seu salário atualizado para 110% do salário médio dos outros funcionários, sempre arredondando-o para não ter nenhuma casa decimal. \n",
    "\n",
    "Usando um *for* loop, descubra qual o menor salário no período 10 e quem possui tal salário. \n",
    "\n",
    "O valor inicial dos salários deve ser o dado no exercício 1.1.\n",
    "\n",
    "A resposta do exercício deve ser um output com a seguinte frase: \"O funcionário que possui menor salário no período 10 é X, sendo ele igual a Y\". O salário Y deve ser definido ANTES de ser atualizado.\n",
    "\n",
    "Dicas:\n",
    "\n",
    "O método .index() serve para encontrar a posição de um elemento em uma lista, dada alguma condição. Exemplo: S = [\"A\",\"B\",\"C\"]. S.index(\"B\") = 1\n",
    "\n",
    "Abaixo disponibilizei o código de uma comprehension que pode servir de inspiração para alguma etapa. "
   ]
  },
  {
   "cell_type": "code",
   "execution_count": 200,
   "id": "53d9e975-c0b1-4382-9da0-245cf9f88d06",
   "metadata": {},
   "outputs": [
    {
     "name": "stdout",
     "output_type": "stream",
     "text": [
      "Output List using list comprehensions: [2, 4, 4, 6]\n"
     ]
    }
   ],
   "source": [
    "# Using List comprehensions\n",
    "# for constructing output list\n",
    "  \n",
    "input_list = [1, 2, 3, 4, 4, 5, 6, 7, 7]\n",
    "  \n",
    "  \n",
    "list_using_comp = [var for var in input_list if var % 2 == 0]\n",
    "  \n",
    "print(\"Output List using list comprehensions:\",\n",
    "                               list_using_comp)"
   ]
  },
  {
   "cell_type": "code",
   "execution_count": 201,
   "id": "fddce43e-8052-4994-9ea7-ece674009dd2",
   "metadata": {},
   "outputs": [
    {
     "name": "stdout",
     "output_type": "stream",
     "text": [
      " O funcionário que possui menor salário no período 10 é Luisa, # Output com a resposta\n",
      "        sendo ele de 1561.0.\n"
     ]
    }
   ],
   "source": [
    "# Atenção. Antes de rodar o for-loop, garanta que os valor dos salários são iguais aos dados no exercício 1.1. Ou seja, [1200,1100,1000,900].\n",
    "# A melhor forma de fazer isso, para evitar erros, é, antes de rodar o loop, definir novamente o dicionário criado em 1.1 \n",
    "# (isto é, novamente escrever no script a definição do dicionário logo antes do looping)\n",
    "\n",
    "        "
   ]
  },
  {
   "cell_type": "markdown",
   "id": "92b7f643-60e3-4a6f-8b9e-7c2aafb04b11",
   "metadata": {},
   "source": [
    "**Exercício 2**"
   ]
  },
  {
   "cell_type": "markdown",
   "id": "cf03d0a3-8505-4deb-9287-dcd5fde88093",
   "metadata": {},
   "source": [
    "Utilizando um while-loop que sequencialmente vai somando os números naturais, iniciando o loop a partir do número 1, quantos números naturais cuja divisão por 2 dá resto 0 (ou seja, números pares) precisamos somar para que seu valor seja maior do que 1000?\n",
    "\n",
    "Por exemplo. Suponha que eu deseje fazer o mesmo exercício, mas para uma condição que a soma deve ser maior que 25. Utilizando o código, começando a sequência em 1, eu descobriria que é suficiente somar os números 2,4,5,8 e10 (já que 2 + 4 + 6 + 8 + 10 = 30) para chegar em um número maior do que 25.\n",
    "\n",
    "Como resposta dê o valor final da soma.\n"
   ]
  },
  {
   "cell_type": "code",
   "execution_count": 202,
   "id": "11e2e947-6312-410c-ae8f-51b396e6b001",
   "metadata": {},
   "outputs": [
    {
     "name": "stdout",
     "output_type": "stream",
     "text": [
      "1056\n"
     ]
    }
   ],
   "source": [
    "soma = 0\n",
    "i = 1\n",
    "\n"
   ]
  },
  {
   "cell_type": "markdown",
   "id": "7eae002b-ca5f-4cec-a71b-e7afb46aabdc",
   "metadata": {},
   "source": [
    "**Exercício 3**"
   ]
  },
  {
   "cell_type": "markdown",
   "id": "3e52ca07-c99f-416a-a502-9239b77b5f8d",
   "metadata": {},
   "source": [
    "Dados os vetores *x_vec* e *y_vec* abaixo e utilizando a função zip, crie um *for-loop* que sequencialmente faz a seguinte operação:\n",
    "\n",
    "1 - Dado o número do ciclo, N, deverá ser feita a multiplicação do elemento X[N] com Y[N] . Logo, no primeiro ciclo, deverá ser multiplicado o primeiro elemento do vetor X com o primeiro elemento do vetor Y. \n",
    "\n",
    "2 - O valor da soma do item 1 deverá ser adicionada a uma variável *z*. Portanto, a variável *z* deverá ir acumulando o valor das multiplicações ao longo dos ciclos.\n",
    "\n",
    "3 - Se o valor de *z* superar 400, o *for-loop* deve ser interrompido\n",
    "\n",
    "4 - Se a condição acima não for verificada, o *for-loop* deverá ter os 10 ciclos esperados.\n",
    "\n",
    "A pergunta da questão é: o for-loop chega a ser interrompido ou não? Se sim, em qual ciclo? Dê o valor final de *z*"
   ]
  },
  {
   "cell_type": "code",
   "execution_count": 1,
   "id": "f24dcd44-5389-49dd-81e4-b41f7e217dc8",
   "metadata": {},
   "outputs": [],
   "source": [
    "import numpy as np\n",
    "\n",
    "np.random.seed(1)\n",
    "\n",
    "x_vec = np.random.uniform(-40, 50, 10)\n",
    "y_vec = np.random.uniform(-10,10,10)\n",
    "z = 0\n",
    "\n",
    "\n"
   ]
  }
 ],
 "metadata": {
  "kernelspec": {
   "display_name": "Python 3 (ipykernel)",
   "language": "python",
   "name": "python3"
  },
  "language_info": {
   "codemirror_mode": {
    "name": "ipython",
    "version": 3
   },
   "file_extension": ".py",
   "mimetype": "text/x-python",
   "name": "python",
   "nbconvert_exporter": "python",
   "pygments_lexer": "ipython3",
   "version": "3.9.12"
  }
 },
 "nbformat": 4,
 "nbformat_minor": 5
}
