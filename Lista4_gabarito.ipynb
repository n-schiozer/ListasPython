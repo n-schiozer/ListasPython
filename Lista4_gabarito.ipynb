{
 "cells": [
  {
   "cell_type": "markdown",
   "id": "c6765994-bf48-45bf-a93a-03de78c58420",
   "metadata": {},
   "source": [
    "# Lista 4 - Métodos computacionais para economistas"
   ]
  },
  {
   "cell_type": "markdown",
   "id": "b2748a9f-0615-4ad2-be58-55cd0c942d35",
   "metadata": {},
   "source": [
    "*NOME:*\n",
    "\n",
    "*NUSP:*\n",
    "\n",
    "*EMAIL:*"
   ]
  },
  {
   "cell_type": "markdown",
   "id": "f405693b-3426-4676-8301-034113253537",
   "metadata": {},
   "source": [
    "**Informações gerais**\n",
    "\n",
    "**PRAZO DE ENTREGA**: ATÉ 23:59 DO DIA 13/10\n",
    "\n",
    "A entrega deve ser esta lista, com as respostas preenchidas nos espaços disponíveis, em formato **HTML**. Para salvar o arquivo dessa forma, a partir de \"File\", clique em \"Save and Export Notebook as ...\". Selecione a opção HTML.\n",
    "\n",
    "### Não serão aceitos arquivos que não estejam em formato HTML.\n",
    "\n",
    "### Não serão aceitas entregas por email, apenas pelo *MOODLE*.\n",
    "\n",
    "Prazo para enviar dúvidas/questionamentos/contestações/etc sobre enunciados ou qualquer outra coisa sobre esta lista: 23:59 DO DIA 11/10\n",
    "\n",
    "Monitor: Nikolas Schiozer\n",
    "\n",
    "E-mail: nikolas.s@usp.br"
   ]
  },
  {
   "cell_type": "markdown",
   "id": "0277c2c2-22c7-4f12-8cdc-f8b2b2b8855d",
   "metadata": {},
   "source": [
    "**Exercício 1**"
   ]
  },
  {
   "cell_type": "markdown",
   "id": "d12f9717-ec57-4e75-9ecb-0224933a3121",
   "metadata": {},
   "source": [
    "Escreva uma função Python que cria e dá como resposta um print de uma lista dos valores quadrados dos números naturais entre 1 e X (ambos incluídos). O valor X deve ser um argumento da função. Como resposta, execute a função escrita considerando  X = 10."
   ]
  },
  {
   "cell_type": "code",
   "execution_count": 10,
   "id": "6c3bdf09-043e-4013-82e6-7df40e22b1cc",
   "metadata": {},
   "outputs": [
    {
     "name": "stdout",
     "output_type": "stream",
     "text": [
      "[1]\n",
      "[1, 4]\n",
      "[1, 4, 9]\n",
      "[1, 4, 9, 16]\n",
      "[1, 4, 9, 16, 25]\n",
      "[1, 4, 9, 16, 25, 36]\n",
      "[1, 4, 9, 16, 25, 36, 49]\n",
      "[1, 4, 9, 16, 25, 36, 49, 64]\n",
      "[1, 4, 9, 16, 25, 36, 49, 64, 81]\n",
      "[1, 4, 9, 16, 25, 36, 49, 64, 81, 100]\n"
     ]
    }
   ],
   "source": [
    "def Values(x):\n",
    "    \n",
    "    l = list()\n",
    "           \n",
    "    for i in range(1,(x+1)):\n",
    "        \n",
    "        l.append(i**2)\n",
    "        print(l)\n",
    "\n",
    "                \n",
    "Values(10)"
   ]
  },
  {
   "cell_type": "markdown",
   "id": "43659cd2-96a3-41ef-9f7d-5a1857cebbcd",
   "metadata": {},
   "source": [
    "**Exercício 2**"
   ]
  },
  {
   "cell_type": "markdown",
   "id": "86f07974-5537-416a-b9ad-0e236aa30e6e",
   "metadata": {},
   "source": [
    "Definindo: \n",
    "\n",
    "$ VF = $ valor final ,\n",
    "\n",
    "$ VP = $valor inicial ,\n",
    "\n",
    "$ i = $taxa de juros ,\n",
    "\n",
    "$ m = $maturidade , \n",
    "\n",
    "$ IPCA = $taxa de inflação anual , \n",
    "\n",
    " e utilizando as seguintes fórmulas:\n",
    "\n",
    "$ VF_{cdb} = ( 1 + i_{cdb} )^m  VP_{cdb}  [1] $\n",
    "\n",
    "$ VF_{ntnb} = (1 + i_{ntnb})^m * ( 1 + IPCA)^m * VP_{ntnb}  [2] $\n",
    "\n",
    "\n",
    "crie uma função para descobrir o valor presente de um título de renda fixa. A função deve considerar a possibilidade do título ser pré-fixado (equação [1]) ou pós-fixado (equação [2]). Se o título é pré-fixado não é necessário considerar o argumento \"taxa de inflação anual\" para o cálculo do valor do valor de seu valor presente. Por isso, escreva uma função em que se a variável \"taxa de inflação anual\" não está presente entre os argumentos automaticamente é interpretado que o título é pré-fixado.\n",
    "\n",
    "Depois de escrita a função, considere dois títulos:\n",
    "\n",
    "*Título 1:*\n",
    "\n",
    "Valor final = R$ 3.000.000,00\n",
    "\n",
    "Maturidade = 4 anos\n",
    "\n",
    "Taxa de juros = 10,00 \\%\n",
    "\n",
    "*Título 2:*\n",
    "\n",
    "Valor final = R$ 4.000.000,00\n",
    "\n",
    "Maturidade = 10 anos\n",
    "\n",
    "Taxa de juros = 4,00 \\%\n",
    "\n",
    "Taxa de inflação anual = 3,00\\%\n",
    "\n",
    "\n",
    "Utilizando a função escrita, descubra qual dos dois títulos possui o menor valor presente."
   ]
  },
  {
   "cell_type": "code",
   "execution_count": 2,
   "id": "a5daeaf8-fcc6-4f91-a951-441a5d73b3cf",
   "metadata": {},
   "outputs": [
    {
     "name": "stdout",
     "output_type": "stream",
     "text": [
      "2049040.37\n",
      "2010732.75\n",
      "O título 2 possui menor valor presente\n"
     ]
    }
   ],
   "source": [
    "def VPfunction(juros,VF,maturidade,infla=None):\n",
    "    \n",
    "    if(infla == None):\n",
    "        \n",
    "        VP = VF/((1+juros)**maturidade)\n",
    "        \n",
    "        VP = round(VP,2)\n",
    "        \n",
    "        return(VP)\n",
    "        \n",
    "    else:\n",
    "        \n",
    "        VP = VF/((1+juros)**maturidade * (1+infla)**maturidade)\n",
    "        \n",
    "        VP = round(VP,2)\n",
    "        \n",
    "        return(VP)\n",
    "    \n",
    "    \n",
    "título1 = VPfunction(0.1,3000000,4)\n",
    "\n",
    "título2 = VPfunction(0.04,4000000,10,0.03)\n",
    "    \n",
    "print(título1)\n",
    "print(título2)   \n",
    "\n",
    "if título1 > título2:\n",
    "    \n",
    "        print(\"O título 2 possui menor valor presente\")\n",
    "        \n",
    "else:\n",
    "    \n",
    "        print(\"O título 1 possui menor valor presente\")\n",
    "    "
   ]
  },
  {
   "cell_type": "markdown",
   "id": "5a107e24-cf28-43c2-a6fb-25f389ea5d96",
   "metadata": {},
   "source": [
    "**Exercício 3**"
   ]
  },
  {
   "cell_type": "markdown",
   "id": "b12e0b32-3aa4-4b3a-9d69-96c1e312c71b",
   "metadata": {},
   "source": [
    "Vamos novamente trabalhar com o dicionário dos funcionários da última lista. Defina, novamente, o dicionário com as seguintes chaves-valor: chave[1]: nome. Valor[1]: Maria, João, Luisa, Pedro. chave[2]: sobrenome. Valor[2]:Garcia,Magalhães,da Silva,Rossi. Chave[3]: salário. Valor[3]: 2000,1600,1200,800\n",
    "\n",
    "Além disso, vamos usar novas informações. Usando os dados do último Censo Demográfico (https://ibge.gov.br/censo2010/apps/nomes/#/ranking), de 2010, os 10 nomes masculinos mais populares entre os nascidos na década de 2000 são, em ordem decrescente, João, Gabriel, Lucas, Pedro, Mateus, Jose, Gustavo, Guilherme, Carlos e Vitor. Já os femininos são Maria, Ana, Vitoria, Julia, Leticia, Amanda, Beatriz, Larissa, Gabriela e Mariana.\n",
    "\n",
    "Já segundo o site \"maiores e melhores\" (https://www.maioresemelhores.com/sobrenomes-mais-comuns-no-brasil/#:~:text=Silva%2C%20Santos%20e%20Oliveira%20s%C3%A3o%20os%20tr%C3%AAs%20sobrenomes,portuguesa%20e%20remontam%20o%20per%C3%ADodo%20colonial%20do%20pa%C3%ADs), o 10 sobrenomes mais comuns no Brasil são, em ordem decrescente, Silva, Santos, Oliveira, Souza, Rodrigues, Ferreira, Alves, Pereira, Lima e Gomes.\n"
   ]
  },
  {
   "cell_type": "markdown",
   "id": "c3d190dc-b0c2-4cb6-be82-961e4c9d411b",
   "metadata": {},
   "source": [
    "**Item 3.1**"
   ]
  },
  {
   "cell_type": "markdown",
   "id": "0594a8f6-807e-4c1f-91ff-be84f2df408c",
   "metadata": {},
   "source": [
    "Crie uma função para incorporar um novo funcionário no dicionário que guarda as informações dos colaboladores da empresa. Os argumentos do dicionário devem ser o nome, sobrenome e salário do novo funcionário. A função também deve exercutar um \"print\" com a seguinte mensagem \"O colaborador 'Nome''Sobrenome', com salário de 'Salário', foi adicionado ao dicionário.\". \n",
    "\n",
    "Como resposta, execute a função escrita considerando os argumentos \"João\",\"Silva\" e 1000. Dê um print no dicionário para verificar se, de fato, o dicionário com os dados dos funcionários foi atualizado pela função."
   ]
  },
  {
   "cell_type": "code",
   "execution_count": 15,
   "id": "fc2fc49b-0590-4493-b21a-b100e913f366",
   "metadata": {},
   "outputs": [
    {
     "name": "stdout",
     "output_type": "stream",
     "text": [
      "O colaborador João Silva, com salário de R$1000,00, foi adicionado ao dicionário.\n",
      "{'nome': ['Maria', 'João', 'Luisa', 'Pedro', 'João'], 'sobrenome': ['Garcia', 'Magalhães', 'da Silva', 'Rossi', 'Silva'], 'salário': [5000, 4000, 3000, 2000, 1000]}\n"
     ]
    }
   ],
   "source": [
    "d = {'nome' : ['Maria', 'João', 'Luisa', 'Pedro'] , 'sobrenome' : ['Garcia','Magalhães','da Silva','Rossi'], 'salário' : [5000,4000,3000,2000]}\n",
    "\n",
    "def adcolaborador(nome,sobrenome,salario):\n",
    "    \n",
    "    d['nome'].append(nome)\n",
    "    d['sobrenome'].append(sobrenome)\n",
    "    d['salário'].append(salario)\n",
    "    \n",
    "    frase = \"O colaborador {} {}, com salário de R${},00, foi adicionado ao dicionário.\".format(nome,sobrenome,salario)\n",
    "    \n",
    "    print(frase)\n",
    "    \n",
    "adcolaborador(nome=\"João\",sobrenome=\"Silva\",salario=1000)\n",
    "print(d)\n",
    "    "
   ]
  },
  {
   "cell_type": "markdown",
   "id": "e0666ae7-6e69-450c-83cd-c10136780b73",
   "metadata": {},
   "source": [
    "**Item 3.2**"
   ]
  },
  {
   "cell_type": "markdown",
   "id": "b7ad17dd-7821-46bc-8008-04df1c6debd1",
   "metadata": {},
   "source": [
    "Vamos criar agora um \"gerador de colaboradores\". Importe o pacote \"random\". O método \"choice\" presente nesse pacote permite sortear elementos contidos dentro de uma lista. Crie uma função que a partir de uma lista de nomes, sobrenomes, um valor máximo e um valor mínimo para salários, faça o seguinte:\n",
    "\n",
    "- Sorteia um nome\n",
    "- Sorteia um sobrenome\n",
    "- A partir de uma distribuição uniforme, considerando os valores de máximo e mínimo presentes como argumentos da função, sorteia um valor aleatório para o salário.\n",
    "- Converte o tipo do salário de \"np.array\" para \"float\" utilizando a função \"float()\". *Não é obrigatório, é uma sugestão*\n",
    "- Arredonda o valor do salário para ter 0 casas decimais.\n",
    "- Usando a função criada no item anterior e com os objetos sorteados (nome, sobrenome,salário) adiciona o novo colaborador ao dicionário.\n",
    "\n",
    "Utilizando todos os nomes, masculinos e femininos, presentes no enunciado, os sobrenomes, como valor máximo para o salário 5000 e mínimo 2000, crie um *for-loop* para adicionar no dicionário 20 funcionários.  "
   ]
  },
  {
   "cell_type": "code",
   "execution_count": 23,
   "id": "89bd0f1a-57fd-4d62-b833-a36db3f6fb0f",
   "metadata": {},
   "outputs": [
    {
     "name": "stdout",
     "output_type": "stream",
     "text": [
      "1\n",
      "O colaborador Gustavo Ferreira, com salário de R$3360,00, foi adicionado ao dicionário.\n",
      "2\n",
      "O colaborador  Guilherme Souza, com salário de R$3697,00, foi adicionado ao dicionário.\n",
      "3\n",
      "O colaborador João Gomes, com salário de R$2109,00, foi adicionado ao dicionário.\n",
      "4\n",
      "O colaborador Leticia Silva, com salário de R$4940,00, foi adicionado ao dicionário.\n",
      "5\n",
      "O colaborador Maria Santos, com salário de R$4602,00, foi adicionado ao dicionário.\n",
      "6\n",
      "O colaborador Ana Lima, com salário de R$2014,00, foi adicionado ao dicionário.\n",
      "7\n",
      "O colaborador Carlos Silva, com salário de R$4651,00, foi adicionado ao dicionário.\n",
      "8\n",
      "O colaborador Julia Alves, com salário de R$4331,00, foi adicionado ao dicionário.\n",
      "9\n",
      "O colaborador Gustavo Silva, com salário de R$3677,00, foi adicionado ao dicionário.\n",
      "10\n",
      "O colaborador Mateus Gomes, com salário de R$2249,00, foi adicionado ao dicionário.\n",
      "11\n",
      "O colaborador Gabriela Gomes, com salário de R$4642,00, foi adicionado ao dicionário.\n",
      "12\n",
      "O colaborador Mateus Santos, com salário de R$3552,00, foi adicionado ao dicionário.\n",
      "13\n",
      "O colaborador João Rodrigues, com salário de R$4831,00, foi adicionado ao dicionário.\n",
      "14\n",
      "O colaborador Julia Souza, com salário de R$2961,00, foi adicionado ao dicionário.\n",
      "15\n",
      "O colaborador João Oliveira, com salário de R$4532,00, foi adicionado ao dicionário.\n",
      "16\n",
      "O colaborador Mateus Gomes, com salário de R$3035,00, foi adicionado ao dicionário.\n",
      "17\n",
      "O colaborador  Beatriz Gomes, com salário de R$3755,00, foi adicionado ao dicionário.\n",
      "18\n",
      "O colaborador Leticia Souza, com salário de R$2824,00, foi adicionado ao dicionário.\n",
      "19\n",
      "O colaborador Vitor Ferreira, com salário de R$3415,00, foi adicionado ao dicionário.\n",
      "20\n",
      "O colaborador Leticia Pereira, com salário de R$2212,00, foi adicionado ao dicionário.\n",
      "{'nome': ['Maria', 'João', 'Luisa', 'Pedro', 'Gustavo', ' Guilherme', 'João', 'Leticia', 'Maria', 'Ana', 'Carlos', 'Julia', 'Gustavo', 'Mateus', 'Gabriela', 'Mateus', 'João', 'Julia', 'João', 'Mateus', ' Beatriz', 'Leticia', 'Vitor', 'Leticia'], 'sobrenome': ['Garcia', 'Magalhães', 'da Silva', 'Rossi', 'Ferreira', 'Souza', 'Gomes', 'Silva', 'Santos', 'Lima', 'Silva', 'Alves', 'Silva', 'Gomes', 'Gomes', 'Santos', 'Rodrigues', 'Souza', 'Oliveira', 'Gomes', 'Gomes', 'Souza', 'Ferreira', 'Pereira'], 'salário': [1200, 1100, 1000, 900, 3360, 3697, 2109, 4940, 4602, 2014, 4651, 4331, 3677, 2249, 4642, 3552, 4831, 2961, 4532, 3035, 3755, 2824, 3415, 2212]}\n"
     ]
    }
   ],
   "source": [
    "import random as rd\n",
    "import numpy as np\n",
    "\n",
    "nomes = ['João',' Gabriel', 'Lucas', 'Pedro', 'Mateus', 'Jose', 'Gustavo',' Guilherme', 'Carlos','Vitor','Maria',\n",
    "         'Ana', 'Vitoria', 'Julia', 'Leticia', 'Amanda',' Beatriz',' Larissa', 'Gabriela',' Mariana']\n",
    "\n",
    "sobrenomes = ['Silva', 'Santos', 'Oliveira', 'Souza', 'Rodrigues', 'Ferreira', 'Alves', 'Pereira', 'Lima','Gomes']\n",
    "\n",
    "d = {'nome' : ['Maria', 'João', 'Luisa', 'Pedro'] , 'sobrenome' : ['Garcia','Magalhães','da Silva','Rossi'], 'salário' : [1200,1100,1000,900]}\n",
    "\n",
    "\n",
    "def criar_colaborador(nomes,sobrenomes,max,min):\n",
    "    \n",
    "    nome_escolhido = rd.choice(nomes)\n",
    "    sobrenome_escolhido = rd.choice(sobrenomes)    \n",
    "    salario_sorteado = np.random.uniform(max,min,1)    \n",
    "    salario_sorteado = round(float(salario_sorteado))     \n",
    "    adcolaborador(nome=nome_escolhido,sobrenome=sobrenome_escolhido,salario=salario_sorteado)\n",
    "    \n",
    "    \n",
    "for i in range(1,21):\n",
    "           \n",
    "    print(i)\n",
    "        \n",
    "    criar_colaborador(nomes,sobrenomes,max=5000,min=2000)\n",
    "    \n",
    "\n",
    "print(d)\n",
    "    \n",
    "    \n",
    "    "
   ]
  },
  {
   "cell_type": "code",
   "execution_count": 21,
   "id": "fe446932-c006-4b72-a841-dae8673c095b",
   "metadata": {},
   "outputs": [
    {
     "name": "stdout",
     "output_type": "stream",
     "text": [
      "<class 'numpy.ndarray'>\n",
      "[597.34259344]\n",
      "<class 'float'>\n",
      "597.3425934368009\n"
     ]
    }
   ],
   "source": [
    "max=1000\n",
    "min = 0\n",
    "\n",
    "vector = np.random.uniform(max,min,1) \n",
    "\n",
    "print(type(vector))\n",
    "print(vector)\n",
    "\n",
    "vector = float(vector)\n",
    "\n",
    "print(type(vector))\n",
    "print(vector)"
   ]
  }
 ],
 "metadata": {
  "kernelspec": {
   "display_name": "Python 3 (ipykernel)",
   "language": "python",
   "name": "python3"
  },
  "language_info": {
   "codemirror_mode": {
    "name": "ipython",
    "version": 3
   },
   "file_extension": ".py",
   "mimetype": "text/x-python",
   "name": "python",
   "nbconvert_exporter": "python",
   "pygments_lexer": "ipython3",
   "version": "3.9.12"
  }
 },
 "nbformat": 4,
 "nbformat_minor": 5
}
