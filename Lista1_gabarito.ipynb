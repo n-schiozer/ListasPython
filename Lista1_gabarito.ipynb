{
 "cells": [
  {
   "cell_type": "markdown",
   "id": "7c7c2fb3-ef7f-4d60-b1aa-2b03955fa543",
   "metadata": {},
   "source": [
    "# Lista 1 - Métodos computacionais para economistas"
   ]
  },
  {
   "cell_type": "markdown",
   "id": "b43fddf8-6623-4098-9c73-0a6988218aa9",
   "metadata": {},
   "source": [
    "Monitor: Nikolas Schiozer\n",
    "\n",
    "E-mail: n.schiozer@usp.br"
   ]
  },
  {
   "cell_type": "markdown",
   "id": "0ce36de1-377e-4a0d-8e91-5902f7bca4db",
   "metadata": {},
   "source": [
    "**Exercício 1**"
   ]
  },
  {
   "cell_type": "markdown",
   "id": "2f0dbef2-0da1-42a4-b63a-865ec7e7939d",
   "metadata": {},
   "source": [
    "É possível ir do ponto X até o ponto Y de carro por duas estradas. \n",
    "\n",
    "A primeira estrada, A, tem uma distância de 63,5km e um limite de velocidade de 70km/h.\n",
    "\n",
    "A segunda estrada, B, tem distância de 77,5km e um limite de velocidade de 80km/h. \n",
    "\n",
    "Demonstre usando código Python qual das duas opções, A ou B, leva do ponto X até Y no menor tempo.\n"
   ]
  },
  {
   "cell_type": "code",
   "execution_count": 1,
   "id": "05cf3f8d-1ffa-4b99-9fc6-8728b28ad3e9",
   "metadata": {},
   "outputs": [
    {
     "name": "stdout",
     "output_type": "stream",
     "text": [
      "A estrada A leva do ponto X até Y no menor tempo.\n"
     ]
    }
   ],
   "source": [
    "# Estrada A\n",
    "\n",
    "dist_a = 63.5\n",
    "vel_a = 70\n",
    "\n",
    "tempo_a = dist_a/vel_a\n",
    "\n",
    "# Estrada B\n",
    "\n",
    "dist_b = 77.5\n",
    "vel_b = 80\n",
    "\n",
    "tempo_b = dist_b/vel_b\n",
    "\n",
    "if tempo_a < tempo_b:\n",
    "    print('A estrada A leva do ponto X até Y no menor tempo.')\n",
    "elif tempo_a > tempo_b:\n",
    "    print('A estrada B leva do ponto X até Y no menor tempo.')\n",
    "else:\n",
    "    print('Ambas levam de X até Y no mesmo tempo')\n",
    "\n"
   ]
  },
  {
   "cell_type": "markdown",
   "id": "cbb4106e-255a-49f3-9255-17b291bde2a6",
   "metadata": {},
   "source": [
    "**Exercício 2**"
   ]
  },
  {
   "cell_type": "markdown",
   "id": "6a064d24-6a63-4a2b-8a83-fceaf008ca23",
   "metadata": {},
   "source": [
    "Agora, suponha que existe um congestionamento por 25% da distância da estrada A, reduzindo a velocidade neste trecho para 40km/h.\n",
    "\n",
    "Também suponha que existe um congestionamento por 10% da distância da estrada B, reduzindo a velocidade neste trecho para 60km/h. \n",
    "\n",
    "Supondo estas condições, demonstre usando código Python qual das duas opções, A ou B, leva do ponto X até Y no menor tempo."
   ]
  },
  {
   "cell_type": "code",
   "execution_count": 2,
   "id": "0855e935-36ac-405f-9caa-2d8c2e7b305c",
   "metadata": {},
   "outputs": [
    {
     "name": "stdout",
     "output_type": "stream",
     "text": [
      "1.016\n",
      "0.9935897435897436\n",
      "A estrada B leva do ponto X até Y no menor tempo.\n"
     ]
    }
   ],
   "source": [
    "# Estrada A\n",
    "\n",
    "dist_a = 63.5\n",
    "vel_a = 70 * 0.75 + 40 * 0.25\n",
    "\n",
    "tempo_a = dist_a/vel_a\n",
    "\n",
    "print(tempo_a)\n",
    "\n",
    "# Estrada B\n",
    "\n",
    "dist_b = 77.5\n",
    "vel_b = 80 * 0.9 + 60 * 0.1\n",
    "\n",
    "tempo_b = dist_b/vel_b\n",
    "\n",
    "print(tempo_b)\n",
    "\n",
    "if tempo_a < tempo_b:\n",
    "    print('A estrada A leva do ponto X até Y no menor tempo.')\n",
    "elif tempo_a > tempo_b:\n",
    "    print('A estrada B leva do ponto X até Y no menor tempo.')\n",
    "else:\n",
    "    print('Ambas levam de X até Y no mesmo tempo')"
   ]
  },
  {
   "cell_type": "markdown",
   "id": "944d883b-cdab-452e-b0ec-1fa414593051",
   "metadata": {},
   "source": [
    "**Exercício 3**"
   ]
  },
  {
   "cell_type": "markdown",
   "id": "a9a67e94-de36-4a71-9dda-da09b7af1dc9",
   "metadata": {},
   "source": [
    "Qual a área de um círculo com raio igual a 2?\n",
    "Qual o raio de um círculo com uma área de aproximadamente 153.938?\n",
    "Importe o pacote \"math\" e use o método \"pi\" para realizar o exercício.\n",
    "Arredonde os resultados finais usando a função \"round\"."
   ]
  },
  {
   "cell_type": "code",
   "execution_count": 3,
   "id": "b9767805-1d0e-4bec-883c-0070f687345a",
   "metadata": {},
   "outputs": [
    {
     "name": "stdout",
     "output_type": "stream",
     "text": [
      "13 7\n"
     ]
    }
   ],
   "source": [
    "import math \n",
    "\n",
    "area = round( 2 ** 2 * math.pi )\n",
    "raio = round((153.938/math.pi) ** 0.5 )\n",
    "\n",
    "print(area,raio)\n",
    "\n"
   ]
  },
  {
   "cell_type": "markdown",
   "id": "072ca61e-54a2-4d56-9773-dc6f03e1d6e8",
   "metadata": {},
   "source": [
    "**Exercício 4**"
   ]
  },
  {
   "cell_type": "markdown",
   "id": "b5ec6e21-efcf-453b-bc3c-db068a4ffc74",
   "metadata": {},
   "source": [
    "Escreva um código para encontrar o valor mínimo, o vértice, da função $ x^2 - 2x - 8 = y $ e para qual $ x $ a função atinge seu valor de mínimo."
   ]
  },
  {
   "cell_type": "code",
   "execution_count": 4,
   "id": "fca0af23-2827-4763-bce3-8e2a07b80e72",
   "metadata": {},
   "outputs": [
    {
     "name": "stdout",
     "output_type": "stream",
     "text": [
      "1.0\n",
      "-9.0\n",
      "2*x - 2\n",
      "0.0\n",
      "-9.0\n"
     ]
    }
   ],
   "source": [
    "# Ponto mínimo\n",
    "\n",
    "a = 1\n",
    "b = -2\n",
    "c = -8\n",
    "\n",
    "p_min = - b/2*a\n",
    "\n",
    "print(p_min)\n",
    "\n",
    "# Valor mínimo\n",
    "\n",
    "delta = b ** 2 - 4*a*c\n",
    "\n",
    "valor_min = - delta/4*a\n",
    "\n",
    "print(valor_min)\n",
    "\n",
    "\n",
    "# Extra: como calcular uma derivada usando Python\n",
    "\n",
    "from sympy import *\n",
    "import numpy as np\n",
    "\n",
    "x = Symbol('x')\n",
    "y = x**2 - 2*x - 8\n",
    "\n",
    "yprime = y.diff(x)\n",
    "print(yprime)\n",
    "\n",
    "f1 = lambdify(x, yprime)\n",
    "\n",
    "print(f1(p_min))\n",
    "\n",
    "f2 = lambdify(x, y)\n",
    "\n",
    "print(f2(p_min))\n",
    "\n",
    "\n"
   ]
  },
  {
   "cell_type": "markdown",
   "id": "6973cbb7-8c84-4d41-bd04-190c6927d2ce",
   "metadata": {},
   "source": [
    "**Exercício 5**"
   ]
  },
  {
   "cell_type": "markdown",
   "id": "2ca122f6-7142-4bec-bf1e-3e16c32ad90d",
   "metadata": {},
   "source": [
    "Escreva um código para encontrar as raízes da seguinte função de segundo grau: $ x^2 - 2.02084 x - 6.82812 = y $\n"
   ]
  },
  {
   "cell_type": "code",
   "execution_count": 5,
   "id": "b7a2d800-291b-418e-be9f-d58e15d83b8c",
   "metadata": {},
   "outputs": [
    {
     "name": "stdout",
     "output_type": "stream",
     "text": [
      "3.812038920624288 -1.7911989206242878\n"
     ]
    }
   ],
   "source": [
    "a = 1\n",
    "b = (-2.02084)\n",
    "c = (-6.82812)\n",
    "\n",
    "delta = pow(b,2) - 4*a*c\n",
    "\n",
    "raiz1 = -b/2*a + 1/2*a * pow(delta,0.5)\n",
    "raiz2 = -b/2*a - 1/2*a * pow(delta,0.5)\n",
    "\n",
    "print(raiz1,raiz2)"
   ]
  },
  {
   "cell_type": "markdown",
   "id": "5d6eeaec-40ca-4ab7-af72-0dfcfffab535",
   "metadata": {},
   "source": [
    "**Exercício 6**"
   ]
  },
  {
   "cell_type": "markdown",
   "id": "89a883d8-a4b6-44ee-a7d9-fba3ccf2ca96",
   "metadata": {},
   "source": [
    "Escreva um código para encontrar as raízes da seguinte função de segundo grau: $ x^2 - 3x + 8 = y $\n"
   ]
  },
  {
   "cell_type": "code",
   "execution_count": 6,
   "id": "e9af74a4-0fe7-4a21-84d9-2919f861fbcf",
   "metadata": {},
   "outputs": [
    {
     "name": "stdout",
     "output_type": "stream",
     "text": [
      "(1.5000000000000002+2.3979157616563596j) (1.4999999999999998-2.3979157616563596j)\n"
     ]
    }
   ],
   "source": [
    "a = 1\n",
    "b = (-3)\n",
    "c = (+8)\n",
    "\n",
    "delta = pow(b,2) - 4*a*c\n",
    "\n",
    "raiz1 = -b/2*a + 1/2*a * pow(delta,0.5)\n",
    "raiz2 = -b/2*a - 1/2*a * pow(delta,0.5)\n",
    "\n",
    "print(raiz1,raiz2)"
   ]
  },
  {
   "cell_type": "markdown",
   "id": "17367246-b2bf-408d-8d1f-44f7f183808a",
   "metadata": {},
   "source": [
    "**Exercício 7**"
   ]
  },
  {
   "cell_type": "markdown",
   "id": "aa80072e-0466-4512-93b8-330c8406e24d",
   "metadata": {},
   "source": [
    "Suponha que você é um proprietário de um certificado de depósito bancários (CDB) que promete pagar em dois anos, já líquido de impostos, R$ 1.000.000,00. Esta CDB é um título pré-fixado, pagando 10% a.a.\n",
    "Um assessor de investimentos de sua corretora entra em contato e lhe sugere vender esse título para comprar uma NTN-B Principal do Tesouro. A taxa de retorno deste novo ativo, líquido de impostos, é 6% a.a + IPCA, e sua maturidade também é de exatamente 2 anos.\n",
    "O valor de mercado da CDB apresenta um deságio de 5% sobre o seu valor presente. Em outras palavras, para realizar a troca entre os ativos, você terá que assumir uma perda de 5% do valor presente de sua CDB. Assim, definindo: \n",
    "\n",
    "$ VF = $ valor final ,\n",
    "\n",
    "$ VP = $valor inicial ,\n",
    "\n",
    "$ i = $taxa de juros ,\n",
    "\n",
    "$ m = $maturidade , \n",
    "\n",
    "$ IPCA = $taxa de inflação anual , \n",
    "\n",
    "  e utilizando as seguintes fórmulas:\n",
    "\n",
    "$ VF_{cdb} = ( 1 + i_{cdb} )^m  VP_{cdb} $\n",
    "\n",
    "$ VF_{ntnb} = (1 + i_{ntnb})^m * ( 1 + IPCA)^m * VP_{ntnb} $\n",
    "\n",
    "\n",
    "Calcule:\n",
    "(a) o valor presente da CDB\n",
    "(b) o valor de mercado da CDB\n",
    "(c) o valor do IPCA anual médio esperado para que, se for realizada a troca de de títulos, você ainda receberá ao final exatamente R$ 1.000.000,00.\n",
    "\n"
   ]
  },
  {
   "cell_type": "code",
   "execution_count": 7,
   "id": "e5b76d22-884f-40f8-a5fe-fd68086ba227",
   "metadata": {},
   "outputs": [
    {
     "name": "stdout",
     "output_type": "stream",
     "text": [
      "826446.28\n",
      "785123.97\n",
      "0.065\n"
     ]
    }
   ],
   "source": [
    "VF = 1000000\n",
    "i = 0.1\n",
    "m = 2\n",
    "\n",
    "VP = round( VF/(1+i)**m , 2 )\n",
    "\n",
    "print(VP)\n",
    "\n",
    "VM = round( (1 - 0.05) * VP , 2)\n",
    "\n",
    "print(VM)\n",
    "\n",
    "i_ntnb = 0.06\n",
    "\n",
    "# VM * ( 1 + IPCA)**m * ( 1 + i )**m = 1000000\n",
    "\n",
    "IPCA = ((VF/VM) * 1/(1+i_ntnb)**m) ** (1/2) - 1\n",
    "\n",
    "print(round(IPCA,3))\n"
   ]
  },
  {
   "cell_type": "markdown",
   "id": "8df240cb-1607-4318-8c3c-c3e178c92a44",
   "metadata": {},
   "source": [
    "**Exercício 6**"
   ]
  },
  {
   "cell_type": "markdown",
   "id": "54025f8a-3360-42b4-81e9-f85f3b1ec506",
   "metadata": {},
   "source": [
    "Calcule a soma dos restos das divisões dos números naturais de 5 até 10 divididos por 4."
   ]
  },
  {
   "cell_type": "raw",
   "id": "80fc3caf-e9c6-461b-972b-184c8799c4bf",
   "metadata": {},
   "source": [
    "# Com oq sabemos até agora:\n",
    "\n",
    "r = 5%4\n",
    "r = 6%4 + r\n",
    "r = 7%4 + r\n",
    "r = 8%4 + r\n",
    "r = 9%4 + r\n",
    "r = 10%4 + r\n",
    "\n",
    "print(r)\n",
    "\n"
   ]
  }
 ],
 "metadata": {
  "kernelspec": {
   "display_name": "Python 3 (ipykernel)",
   "language": "python",
   "name": "python3"
  },
  "language_info": {
   "codemirror_mode": {
    "name": "ipython",
    "version": 3
   },
   "file_extension": ".py",
   "mimetype": "text/x-python",
   "name": "python",
   "nbconvert_exporter": "python",
   "pygments_lexer": "ipython3",
   "version": "3.9.12"
  }
 },
 "nbformat": 4,
 "nbformat_minor": 5
}
