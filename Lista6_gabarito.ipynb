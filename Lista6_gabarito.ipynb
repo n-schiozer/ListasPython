{
 "cells": [
  {
   "cell_type": "markdown",
   "id": "c6765994-bf48-45bf-a93a-03de78c58420",
   "metadata": {},
   "source": [
    "# Lista 6 - Métodos computacionais para economistas"
   ]
  },
  {
   "cell_type": "markdown",
   "id": "2ba90d2e-58af-46b6-a73d-ad53864ffca9",
   "metadata": {},
   "source": [
    "Lista de exercícios para praticar funções dos pacotes Python estudados em aula, Numpy, SciPy e Pandas.\n",
    "\n",
    "**Lista de exercícios para praticar funções dos pacotes Python estudados em aula.**\n",
    "\n",
    "Monitor: Nikolas Schiozer\n",
    "\n",
    "E-mail: nikolas.s@usp.br"
   ]
  },
  {
   "cell_type": "markdown",
   "id": "0277c2c2-22c7-4f12-8cdc-f8b2b2b8855d",
   "metadata": {},
   "source": [
    "***Exercícios Numpy***"
   ]
  },
  {
   "cell_type": "markdown",
   "id": "018ac706-0076-4e30-b56e-105783555507",
   "metadata": {},
   "source": [
    "**Exercício 1**"
   ]
  },
  {
   "cell_type": "markdown",
   "id": "d12f9717-ec57-4e75-9ecb-0224933a3121",
   "metadata": {},
   "source": [
    "Abaixo temos uma matriz A,B e C. Realize as seguintes operações:\n",
    "* Some a matriz A com B com o método \"add\"\n",
    "* Multiplique o resultado do item anterior por C com o método \"dot\"\n",
    "* Verifique se a matriz anterior possui determinante diferente de 0 usando método visto em aula\n",
    "* Se o determinante for diferente de 0, calcule a matriz inversa obtida pelo item anterior usando método visto em aula"
   ]
  },
  {
   "cell_type": "code",
   "execution_count": 119,
   "id": "6c3bdf09-043e-4013-82e6-7df40e22b1cc",
   "metadata": {},
   "outputs": [
    {
     "name": "stdout",
     "output_type": "stream",
     "text": [
      "Print\n",
      "[[1, 2], [3, 4]]\n",
      "Print\n",
      "[[4, 5], [6, 7]]\n",
      "Print\n",
      "[[1.2, 0.8], [0.2, 1]]\n",
      "Soma de duas matrizes\n",
      "[[ 5  7]\n",
      " [ 9 11]]\n",
      "-8.320000000000023\n",
      "[[-1.49038462  2.06730769]\n",
      " [ 1.20192308 -1.58653846]]\n"
     ]
    }
   ],
   "source": [
    "# Supondo as matrizes A, B e C:\n",
    "A = [[1,2],[3,4]]\n",
    "B = [[4,5],[6,7]]\n",
    "C = [[1.2,0.8],[0.2,1]]\n",
    "\n",
    "import numpy as np\n",
    "\n",
    "print(\"Print\")\n",
    "print(A)\n",
    "print(\"Print\")\n",
    "print(B)\n",
    "print(\"Print\")\n",
    "print(C)\n",
    "  \n",
    "# Soma\n",
    "print(\"Soma de duas matrizes\")\n",
    "print(np.add(A, B))\n",
    "\n",
    "# Soma\n",
    "D = np.add(A, B)\n",
    "\n",
    "# Produto\n",
    "E = np.dot( C , D )\n",
    "\n",
    "# Cálculo do determinante\n",
    "print(np.linalg.det(E))\n",
    "\n",
    "# Cálculo da inversa\n",
    "print(np.linalg.inv(E))"
   ]
  },
  {
   "cell_type": "markdown",
   "id": "43659cd2-96a3-41ef-9f7d-5a1857cebbcd",
   "metadata": {},
   "source": [
    "**Exercício 2**"
   ]
  },
  {
   "cell_type": "markdown",
   "id": "86f07974-5537-416a-b9ad-0e236aa30e6e",
   "metadata": {},
   "source": [
    "Obtenha os números das linhas de uma matriz numpy que têm pelo menos um item maior do que um valor especificado X. Para fazer o exercício, use as funções numpy.where() e numpy.any() juntas."
   ]
  },
  {
   "cell_type": "code",
   "execution_count": 120,
   "id": "a5daeaf8-fcc6-4f91-a951-441a5d73b3cf",
   "metadata": {},
   "outputs": [
    {
     "name": "stdout",
     "output_type": "stream",
     "text": [
      "Dada a matriz:\n",
      " [[ 1  2  3  4  5]\n",
      " [10 -3 30  4  5]\n",
      " [ 3  2  5 -4  5]\n",
      " [ 9  7  3  6  5]]\n",
      "[False  True False  True]\n",
      "[False  True False  True]\n",
      "Result:\n",
      " (array([1, 3], dtype=int64),)\n"
     ]
    }
   ],
   "source": [
    "# Importando:\n",
    "import numpy\n",
    "  \n",
    "# Matriz\n",
    "arr = numpy.array([[1, 2, 3, 4, 5],\n",
    "                  [10, -3, 30, 4, 5],\n",
    "                  [3, 2, 5, -4, 5],\n",
    "                  [9, 7, 3, 6, 5] \n",
    "                 ])\n",
    "  \n",
    "# Valor:\n",
    "X = 6\n",
    "  \n",
    "print(\"Dada a matriz:\\n\", arr)\n",
    "  \n",
    "# Descobrindo o número de linhas\n",
    "print(numpy.any(arr > X,axis = 1))\n",
    "\n",
    "bool = numpy.any( arr > X ,axis = 1)\n",
    "\n",
    "print(bool)\n",
    "\n",
    "output  = numpy.where(bool)\n",
    "  \n",
    "# Output\n",
    "print(\"Result:\\n\", output)"
   ]
  },
  {
   "cell_type": "markdown",
   "id": "5a107e24-cf28-43c2-a6fb-25f389ea5d96",
   "metadata": {},
   "source": [
    "**Exercício 3**"
   ]
  },
  {
   "cell_type": "markdown",
   "id": "b12e0b32-3aa4-4b3a-9d69-96c1e312c71b",
   "metadata": {},
   "source": [
    "numpy.matlib.rand() e numpy.matlib.randn() são outras funções para fazer operações matriciais em numpy. Elas retornam uma matriz de valores aleatórios de uma distribuição uniforme sobre [0, 1] e normal com determinada forma. Abaixo obtenha uma matriz 3 x 4 com valores aleatórios obtidos de uma distribuição uniforme e uma matriz 10 x 10 com valores obtidos de uma distribuição normal."
   ]
  },
  {
   "cell_type": "code",
   "execution_count": 121,
   "id": "6f2a171d-213b-41d4-b8d7-e0b4a1481188",
   "metadata": {},
   "outputs": [
    {
     "name": "stdout",
     "output_type": "stream",
     "text": [
      "Output matrix :  [[0.64264149 0.94302788 0.4643252  0.78483527]\n",
      " [0.42606626 0.81209981 0.35746885 0.10402751]\n",
      " [0.76546789 0.16099132 0.41663398 0.76861491]]\n",
      "Output matrix :  [[-0.53953912 -2.28088393]\n",
      " [-0.01215529 -0.69161644]]\n"
     ]
    }
   ],
   "source": [
    "# Importanto\n",
    "import numpy as np\n",
    "  \n",
    "# 3 x 4 matriz aleatória\n",
    "out_mat = np.matlib.rand((3, 4)) \n",
    "print (\"Output matrix : \", out_mat) \n",
    "\n",
    "  \n",
    "# 2 x 2 matriz normal aleatória\n",
    "out_mat = np.matlib.randn((2, 2)) \n",
    "print (\"Output matrix : \", out_mat) "
   ]
  },
  {
   "cell_type": "markdown",
   "id": "c3d190dc-b0c2-4cb6-be82-961e4c9d411b",
   "metadata": {},
   "source": [
    "***Exercícios SciPy***"
   ]
  },
  {
   "cell_type": "markdown",
   "id": "0594a8f6-807e-4c1f-91ff-be84f2df408c",
   "metadata": {},
   "source": [
    "**Exercício 1**"
   ]
  },
  {
   "cell_type": "markdown",
   "id": "e405af95-49a8-4c99-8d41-6580c5564298",
   "metadata": {},
   "source": [
    "Integre a função $x^2 + x + 2$ utilizando a função \"quad\" da biblioteca \"Scipy\", definida no intervalo de $[0,100]$."
   ]
  },
  {
   "cell_type": "code",
   "execution_count": 122,
   "id": "fc2fc49b-0590-4493-b21a-b100e913f366",
   "metadata": {},
   "outputs": [
    {
     "name": "stdout",
     "output_type": "stream",
     "text": [
      "(338533.3333333333, 3.758475012697696e-09)\n"
     ]
    }
   ],
   "source": [
    "from scipy.integrate import quad\n",
    "\n",
    "def eqn(x):\n",
    "  return x**2 + x + 2\n",
    "\n",
    "result = quad(eqn,0,100)\n",
    "print(result)\n",
    "\n",
    "# O primeiro valor da tupla resultante da função quad é o valor da integral avaliada no intervalo passado como argumento. \n",
    "# O segundo elemento da tupla representa o erro calculado pelo algoritmo no cálculo da integral."
   ]
  },
  {
   "cell_type": "markdown",
   "id": "e0666ae7-6e69-450c-83cd-c10136780b73",
   "metadata": {},
   "source": [
    "**Exercício 2**"
   ]
  },
  {
   "cell_type": "markdown",
   "id": "b7ad17dd-7821-46bc-8008-04df1c6debd1",
   "metadata": {},
   "source": [
    "Minimize a equação $x^2 + 30x - 100$ utilizando a função \"minimize\" da biblioteca \"Scipy\", utilizando o algortimo 'BFGS'. Dê como resposta um print do valor encontrado."
   ]
  },
  {
   "cell_type": "code",
   "execution_count": 123,
   "id": "89bd0f1a-57fd-4d62-b833-a36db3f6fb0f",
   "metadata": {},
   "outputs": [
    {
     "name": "stdout",
     "output_type": "stream",
     "text": [
      "[-14.99999943]\n"
     ]
    }
   ],
   "source": [
    "from scipy.optimize import minimize\n",
    "\n",
    "def eqn(x):\n",
    "  return x**2 + 30*x - 100\n",
    "\n",
    "mymin = minimize(eqn, x0=0, method=\"BFGS\")\n",
    "\n",
    "print(mymin.x)"
   ]
  },
  {
   "cell_type": "markdown",
   "id": "aac53c2d-24b9-458d-a8eb-51589fd5ea31",
   "metadata": {},
   "source": [
    "***Exercícios Pandas***"
   ]
  },
  {
   "cell_type": "markdown",
   "id": "2001dbea-0938-4b7e-b9a6-3de985503016",
   "metadata": {},
   "source": [
    "**Exercício 1**"
   ]
  },
  {
   "cell_type": "markdown",
   "id": "d2ba20ff-cb30-4694-aed2-b54327be0254",
   "metadata": {},
   "source": [
    "Abaixo temos 4 listas com algunas informações sobre as partidas da Copa do Mundo até o dia 23/11. Temos o nome das seleções que já fizera sua primeira partida, a que continente pertence o respectivo país, número de vitórias, pontos ganhos e saldo de gols. Junte as cinco em um data.frame do Pandas."
   ]
  },
  {
   "cell_type": "code",
   "execution_count": 124,
   "id": "4958d37d-13d0-48b3-a2b0-b9a72cb0f12c",
   "metadata": {},
   "outputs": [
    {
     "data": {
      "text/html": [
       "<div>\n",
       "<style scoped>\n",
       "    .dataframe tbody tr th:only-of-type {\n",
       "        vertical-align: middle;\n",
       "    }\n",
       "\n",
       "    .dataframe tbody tr th {\n",
       "        vertical-align: top;\n",
       "    }\n",
       "\n",
       "    .dataframe thead th {\n",
       "        text-align: right;\n",
       "    }\n",
       "</style>\n",
       "<table border=\"1\" class=\"dataframe\">\n",
       "  <thead>\n",
       "    <tr style=\"text-align: right;\">\n",
       "      <th></th>\n",
       "      <th>Times</th>\n",
       "      <th>Continente</th>\n",
       "      <th>V</th>\n",
       "      <th>Pts</th>\n",
       "      <th>SD</th>\n",
       "    </tr>\n",
       "  </thead>\n",
       "  <tbody>\n",
       "    <tr>\n",
       "      <th>0</th>\n",
       "      <td>Argentina</td>\n",
       "      <td>Am.Sul</td>\n",
       "      <td>0</td>\n",
       "      <td>0</td>\n",
       "      <td>-1</td>\n",
       "    </tr>\n",
       "    <tr>\n",
       "      <th>1</th>\n",
       "      <td>Australia</td>\n",
       "      <td>Oceania</td>\n",
       "      <td>0</td>\n",
       "      <td>0</td>\n",
       "      <td>-3</td>\n",
       "    </tr>\n",
       "    <tr>\n",
       "      <th>2</th>\n",
       "      <td>Belgium</td>\n",
       "      <td>Europa</td>\n",
       "      <td>1</td>\n",
       "      <td>3</td>\n",
       "      <td>1</td>\n",
       "    </tr>\n",
       "    <tr>\n",
       "      <th>3</th>\n",
       "      <td>Canada</td>\n",
       "      <td>Am.Norte</td>\n",
       "      <td>0</td>\n",
       "      <td>0</td>\n",
       "      <td>-1</td>\n",
       "    </tr>\n",
       "    <tr>\n",
       "      <th>4</th>\n",
       "      <td>Costa Rica</td>\n",
       "      <td>Am.Norte</td>\n",
       "      <td>0</td>\n",
       "      <td>0</td>\n",
       "      <td>-7</td>\n",
       "    </tr>\n",
       "    <tr>\n",
       "      <th>5</th>\n",
       "      <td>Croatia</td>\n",
       "      <td>Europa</td>\n",
       "      <td>0</td>\n",
       "      <td>1</td>\n",
       "      <td>0</td>\n",
       "    </tr>\n",
       "    <tr>\n",
       "      <th>6</th>\n",
       "      <td>Denmark</td>\n",
       "      <td>Europa</td>\n",
       "      <td>0</td>\n",
       "      <td>1</td>\n",
       "      <td>0</td>\n",
       "    </tr>\n",
       "    <tr>\n",
       "      <th>7</th>\n",
       "      <td>Ecuador</td>\n",
       "      <td>Am.Sul</td>\n",
       "      <td>1</td>\n",
       "      <td>3</td>\n",
       "      <td>2</td>\n",
       "    </tr>\n",
       "    <tr>\n",
       "      <th>8</th>\n",
       "      <td>England</td>\n",
       "      <td>Europa</td>\n",
       "      <td>1</td>\n",
       "      <td>3</td>\n",
       "      <td>4</td>\n",
       "    </tr>\n",
       "    <tr>\n",
       "      <th>9</th>\n",
       "      <td>France</td>\n",
       "      <td>Europa</td>\n",
       "      <td>1</td>\n",
       "      <td>3</td>\n",
       "      <td>3</td>\n",
       "    </tr>\n",
       "    <tr>\n",
       "      <th>10</th>\n",
       "      <td>Germany</td>\n",
       "      <td>Europa</td>\n",
       "      <td>0</td>\n",
       "      <td>0</td>\n",
       "      <td>-1</td>\n",
       "    </tr>\n",
       "    <tr>\n",
       "      <th>11</th>\n",
       "      <td>Iran</td>\n",
       "      <td>Asia</td>\n",
       "      <td>0</td>\n",
       "      <td>0</td>\n",
       "      <td>-4</td>\n",
       "    </tr>\n",
       "    <tr>\n",
       "      <th>12</th>\n",
       "      <td>Japan</td>\n",
       "      <td>Asia</td>\n",
       "      <td>1</td>\n",
       "      <td>3</td>\n",
       "      <td>1</td>\n",
       "    </tr>\n",
       "    <tr>\n",
       "      <th>13</th>\n",
       "      <td>Mexico</td>\n",
       "      <td>Am.Norte</td>\n",
       "      <td>0</td>\n",
       "      <td>1</td>\n",
       "      <td>0</td>\n",
       "    </tr>\n",
       "    <tr>\n",
       "      <th>14</th>\n",
       "      <td>Morocco</td>\n",
       "      <td>Africa</td>\n",
       "      <td>0</td>\n",
       "      <td>1</td>\n",
       "      <td>0</td>\n",
       "    </tr>\n",
       "    <tr>\n",
       "      <th>15</th>\n",
       "      <td>Netherlands</td>\n",
       "      <td>Europa</td>\n",
       "      <td>1</td>\n",
       "      <td>3</td>\n",
       "      <td>2</td>\n",
       "    </tr>\n",
       "    <tr>\n",
       "      <th>16</th>\n",
       "      <td>Poland</td>\n",
       "      <td>Europa</td>\n",
       "      <td>0</td>\n",
       "      <td>1</td>\n",
       "      <td>0</td>\n",
       "    </tr>\n",
       "    <tr>\n",
       "      <th>17</th>\n",
       "      <td>Qatar</td>\n",
       "      <td>Asia</td>\n",
       "      <td>0</td>\n",
       "      <td>0</td>\n",
       "      <td>-2</td>\n",
       "    </tr>\n",
       "    <tr>\n",
       "      <th>18</th>\n",
       "      <td>Saudi Arabia</td>\n",
       "      <td>Asia</td>\n",
       "      <td>1</td>\n",
       "      <td>3</td>\n",
       "      <td>1</td>\n",
       "    </tr>\n",
       "    <tr>\n",
       "      <th>19</th>\n",
       "      <td>Senegal</td>\n",
       "      <td>Africa</td>\n",
       "      <td>0</td>\n",
       "      <td>0</td>\n",
       "      <td>-2</td>\n",
       "    </tr>\n",
       "    <tr>\n",
       "      <th>20</th>\n",
       "      <td>Spain</td>\n",
       "      <td>Europa</td>\n",
       "      <td>1</td>\n",
       "      <td>3</td>\n",
       "      <td>7</td>\n",
       "    </tr>\n",
       "    <tr>\n",
       "      <th>21</th>\n",
       "      <td>Tunisia</td>\n",
       "      <td>Africa</td>\n",
       "      <td>0</td>\n",
       "      <td>1</td>\n",
       "      <td>0</td>\n",
       "    </tr>\n",
       "    <tr>\n",
       "      <th>22</th>\n",
       "      <td>United States</td>\n",
       "      <td>Am.Norte</td>\n",
       "      <td>0</td>\n",
       "      <td>1</td>\n",
       "      <td>0</td>\n",
       "    </tr>\n",
       "    <tr>\n",
       "      <th>23</th>\n",
       "      <td>Wales</td>\n",
       "      <td>Europa</td>\n",
       "      <td>0</td>\n",
       "      <td>1</td>\n",
       "      <td>0</td>\n",
       "    </tr>\n",
       "  </tbody>\n",
       "</table>\n",
       "</div>"
      ],
      "text/plain": [
       "            Times Continente  V  Pts  SD\n",
       "0       Argentina     Am.Sul  0    0  -1\n",
       "1       Australia    Oceania  0    0  -3\n",
       "2         Belgium     Europa  1    3   1\n",
       "3          Canada   Am.Norte  0    0  -1\n",
       "4      Costa Rica   Am.Norte  0    0  -7\n",
       "5         Croatia     Europa  0    1   0\n",
       "6         Denmark     Europa  0    1   0\n",
       "7         Ecuador     Am.Sul  1    3   2\n",
       "8         England     Europa  1    3   4\n",
       "9          France     Europa  1    3   3\n",
       "10        Germany     Europa  0    0  -1\n",
       "11           Iran       Asia  0    0  -4\n",
       "12          Japan       Asia  1    3   1\n",
       "13         Mexico   Am.Norte  0    1   0\n",
       "14        Morocco     Africa  0    1   0\n",
       "15    Netherlands     Europa  1    3   2\n",
       "16         Poland     Europa  0    1   0\n",
       "17          Qatar       Asia  0    0  -2\n",
       "18   Saudi Arabia       Asia  1    3   1\n",
       "19        Senegal     Africa  0    0  -2\n",
       "20          Spain     Europa  1    3   7\n",
       "21        Tunisia     Africa  0    1   0\n",
       "22  United States   Am.Norte  0    1   0\n",
       "23          Wales     Europa  0    1   0"
      ]
     },
     "execution_count": 124,
     "metadata": {},
     "output_type": "execute_result"
    }
   ],
   "source": [
    "Times = ['Argentina','Australia','Belgium','Canada','Costa Rica','Croatia','Denmark','Ecuador','England','France','Germany','Iran','Japan','Mexico','Morocco','Netherlands','Poland','Qatar','Saudi Arabia','Senegal','Spain','Tunisia','United States','Wales']\n",
    "Continente = ['Am.Sul','Oceania','Europa','Am.Norte','Am.Norte','Europa','Europa','Am.Sul','Europa','Europa','Europa','Asia','Asia','Am.Norte','Africa','Europa','Europa','Asia','Asia','Africa','Europa','Africa','Am.Norte','Europa']\n",
    "V = [0,0,1,0,0,0,0,1,1,1,0,0,1,0,0,1,0,0,1,0,1,0,0,0]\n",
    "Pts = [0,0,3,0,0,1,1,3,3,3,0,0,3,1,1,3,1,0,3,0,3,1,1,1]\n",
    "SD = [-1,-3,1,-1,-7,0,0,2,4,3,-1,-4,1,0,0,2,0,-2,1,-2,7,0,0,0]\n",
    "\n",
    "import pandas as pd\n",
    "\n",
    "# Séries a partir de listas\n",
    "Times_series = pd.Series(Times)\n",
    "Continente_series = pd.Series(Continente)\n",
    "V_series = pd.Series(V)\n",
    "Pts_series = pd.Series(Pts)\n",
    "SD_series = pd.Series(SD)\n",
    "\n",
    "\n",
    "# Dicionário a partir de listas\n",
    "frame = { 'Times': Times_series, 'Continente': Continente_series, 'V': V_series , 'Pts': Pts_series , 'SD': SD_series }\n",
    "\n",
    "# Data.frame a partir de um dicionário\n",
    "frame_WC = pd.DataFrame(frame)\n",
    "\n",
    "# Print\n",
    "frame_WC\n"
   ]
  },
  {
   "cell_type": "markdown",
   "id": "6741e970-c96f-47b1-92c3-06af0beb3839",
   "metadata": {},
   "source": [
    "**Exercício 2**"
   ]
  },
  {
   "cell_type": "markdown",
   "id": "492150b4-5658-4b2c-b1db-5cd11ccaf8d6",
   "metadata": {},
   "source": [
    "Vamos realizar algumas mudanças no nosso data.frame.\n",
    "\n",
    "* Substitua o título das colunas para \"Seleções\", \"Continente\", \"Vitórias\", \"Pontos\" e \"SdG\".\n",
    "* Na primeira coluna, deixe todos os caracteres maiúsculos. Na segunda, minúsculos. \n",
    "* Crie uma nova coluna, chamada Soma, que é o resultado da soma dos valores das colunas vitórias, pontos e saldo de gols. \n",
    "* Crie uma nova coluna em que, se o valor de Soma estiver no quartil inferior, na coluna temos um booleano TRUE. Caso contrário, FALSE."
   ]
  },
  {
   "cell_type": "code",
   "execution_count": 125,
   "id": "2f06610f-4b39-49ac-a331-6de4ba71f22d",
   "metadata": {},
   "outputs": [
    {
     "name": "stdout",
     "output_type": "stream",
     "text": [
      "0   -1\n",
      "1   -3\n",
      "2    5\n",
      "3   -1\n",
      "4   -7\n",
      "Name: Soma, dtype: int64\n"
     ]
    },
    {
     "data": {
      "text/html": [
       "<div>\n",
       "<style scoped>\n",
       "    .dataframe tbody tr th:only-of-type {\n",
       "        vertical-align: middle;\n",
       "    }\n",
       "\n",
       "    .dataframe tbody tr th {\n",
       "        vertical-align: top;\n",
       "    }\n",
       "\n",
       "    .dataframe thead th {\n",
       "        text-align: right;\n",
       "    }\n",
       "</style>\n",
       "<table border=\"1\" class=\"dataframe\">\n",
       "  <thead>\n",
       "    <tr style=\"text-align: right;\">\n",
       "      <th></th>\n",
       "      <th>Seleções</th>\n",
       "      <th>Continente</th>\n",
       "      <th>Vitórias</th>\n",
       "      <th>Pontos</th>\n",
       "      <th>SdG</th>\n",
       "      <th>Soma</th>\n",
       "      <th>If</th>\n",
       "    </tr>\n",
       "  </thead>\n",
       "  <tbody>\n",
       "    <tr>\n",
       "      <th>0</th>\n",
       "      <td>ARGENTINA</td>\n",
       "      <td>am.sul</td>\n",
       "      <td>0</td>\n",
       "      <td>0</td>\n",
       "      <td>-1</td>\n",
       "      <td>-1</td>\n",
       "      <td>True</td>\n",
       "    </tr>\n",
       "    <tr>\n",
       "      <th>1</th>\n",
       "      <td>AUSTRALIA</td>\n",
       "      <td>oceania</td>\n",
       "      <td>0</td>\n",
       "      <td>0</td>\n",
       "      <td>-3</td>\n",
       "      <td>-3</td>\n",
       "      <td>True</td>\n",
       "    </tr>\n",
       "    <tr>\n",
       "      <th>2</th>\n",
       "      <td>BELGIUM</td>\n",
       "      <td>europa</td>\n",
       "      <td>1</td>\n",
       "      <td>3</td>\n",
       "      <td>1</td>\n",
       "      <td>5</td>\n",
       "      <td>False</td>\n",
       "    </tr>\n",
       "    <tr>\n",
       "      <th>3</th>\n",
       "      <td>CANADA</td>\n",
       "      <td>am.norte</td>\n",
       "      <td>0</td>\n",
       "      <td>0</td>\n",
       "      <td>-1</td>\n",
       "      <td>-1</td>\n",
       "      <td>True</td>\n",
       "    </tr>\n",
       "    <tr>\n",
       "      <th>4</th>\n",
       "      <td>COSTA RICA</td>\n",
       "      <td>am.norte</td>\n",
       "      <td>0</td>\n",
       "      <td>0</td>\n",
       "      <td>-7</td>\n",
       "      <td>-7</td>\n",
       "      <td>True</td>\n",
       "    </tr>\n",
       "  </tbody>\n",
       "</table>\n",
       "</div>"
      ],
      "text/plain": [
       "     Seleções Continente  Vitórias  Pontos  SdG  Soma     If\n",
       "0   ARGENTINA     am.sul         0       0   -1    -1   True\n",
       "1   AUSTRALIA    oceania         0       0   -3    -3   True\n",
       "2     BELGIUM     europa         1       3    1     5  False\n",
       "3      CANADA   am.norte         0       0   -1    -1   True\n",
       "4  COSTA RICA   am.norte         0       0   -7    -7   True"
      ]
     },
     "execution_count": 125,
     "metadata": {},
     "output_type": "execute_result"
    }
   ],
   "source": [
    "# Substituir os títulos\n",
    "frame_WC.columns = [\"Seleções\", \"Continente\", \"Vitórias\", \"Pontos\" ,\"SdG\"]\n",
    "#print(frame_WC.head())\n",
    "\n",
    "# Mudança do texto. Primeira letra das palavras\n",
    "frame_WC['Seleções'] = frame_WC['Seleções'].str.upper()\n",
    "\n",
    "frame_WC['Continente'] = frame_WC['Continente'].str.lower()\n",
    "\n",
    "#print(frame_WC.head())\n",
    "\n",
    "# Operações com as colunas - criação de uma nova\n",
    "frame_WC['Soma'] = frame_WC['Vitórias'] + frame_WC['Pontos'] + frame_WC['SdG']\n",
    "\n",
    "print(frame_WC['Soma'].head())\n",
    "\n",
    "#print(frame_WC['Soma'].describe())\n",
    "\n",
    "# Operações booleanas com colunas\n",
    "frame_WC['If'] = [ True if elem <= -1 else False for elem in frame_WC['Soma']]\n",
    "\n",
    "frame_WC.head()\n",
    "\n"
   ]
  },
  {
   "cell_type": "markdown",
   "id": "0a7aea3a-fa84-44e0-8703-ba7655914ddb",
   "metadata": {},
   "source": [
    "**Exercício 3**"
   ]
  },
  {
   "cell_type": "markdown",
   "id": "9c1bbeba-7aac-4516-ac14-b7d502a401ac",
   "metadata": {},
   "source": [
    "A que continente pertencem os 5 países que apresentam o maior saldo de gols (SD) até o dia 23/11? Crie um novo data.frame que contenha apenas as linhas com estes 5 países e as colunas com nomes \"Seleções\",\"Vitórias\" e Pontos\". "
   ]
  },
  {
   "cell_type": "code",
   "execution_count": 133,
   "id": "c51f2f2e-1a6d-48bf-a387-5fb95e2dfd55",
   "metadata": {},
   "outputs": [
    {
     "name": "stdout",
     "output_type": "stream",
     "text": [
      "         Seleções Continente  Vitórias  Pontos  SdG  Soma     If\n",
      "20          SPAIN     europa         1       3    7    11  False\n",
      "8         ENGLAND     europa         1       3    4     8  False\n",
      "9          FRANCE     europa         1       3    3     7  False\n",
      "7         ECUADOR     am.sul         1       3    2     6  False\n",
      "15    NETHERLANDS     europa         1       3    2     6  False\n",
      "12          JAPAN       asia         1       3    1     5  False\n",
      "2         BELGIUM     europa         1       3    1     5  False\n",
      "18   SAUDI ARABIA       asia         1       3    1     5  False\n",
      "13         MEXICO   am.norte         0       1    0     1  False\n",
      "22  UNITED STATES   am.norte         0       1    0     1  False\n",
      "21        TUNISIA     africa         0       1    0     1  False\n",
      "16         POLAND     europa         0       1    0     1  False\n",
      "14        MOROCCO     africa         0       1    0     1  False\n",
      "23          WALES     europa         0       1    0     1  False\n",
      "6         DENMARK     europa         0       1    0     1  False\n",
      "5         CROATIA     europa         0       1    0     1  False\n",
      "10        GERMANY     europa         0       0   -1    -1   True\n",
      "3          CANADA   am.norte         0       0   -1    -1   True\n",
      "0       ARGENTINA     am.sul         0       0   -1    -1   True\n",
      "17          QATAR       asia         0       0   -2    -2   True\n",
      "19        SENEGAL     africa         0       0   -2    -2   True\n",
      "1       AUSTRALIA    oceania         0       0   -3    -3   True\n",
      "11           IRAN       asia         0       0   -4    -4   True\n",
      "4      COSTA RICA   am.norte         0       0   -7    -7   True\n",
      "       Seleções  Vitórias  Pontos\n",
      "8       ENGLAND         1       3\n",
      "9        FRANCE         1       3\n",
      "7       ECUADOR         1       3\n",
      "15  NETHERLANDS         1       3\n",
      "12        JAPAN         1       3\n",
      "       Seleções  Vitórias  Pontos\n",
      "8       ENGLAND         1       3\n",
      "9        FRANCE         1       3\n",
      "7       ECUADOR         1       3\n",
      "15  NETHERLANDS         1       3\n",
      "12        JAPAN         1       3\n"
     ]
    }
   ],
   "source": [
    "# Sorting na ordem desejada\n",
    "\n",
    "fram2 = frame_WC.sort_values(by=['SdG'], ascending=False)\n",
    "\n",
    "print(fram2)\n",
    "\n",
    "# Criação de novo dataframe\n",
    "\n",
    "fram3 = fram2[['Seleções','Vitórias','Pontos']]\n",
    "fram4 = fram3[1:6]\n",
    "\n",
    "\n",
    "# Utilizando .iloc para selecionar o número de colunas desejadas\n",
    "fram5 = fram2.iloc[1:6,[0,2,3]]\n",
    "\n",
    "\n",
    "print(fram5.head())\n",
    "print(fram4.head())"
   ]
  }
 ],
 "metadata": {
  "kernelspec": {
   "display_name": "Python 3 (ipykernel)",
   "language": "python",
   "name": "python3"
  },
  "language_info": {
   "codemirror_mode": {
    "name": "ipython",
    "version": 3
   },
   "file_extension": ".py",
   "mimetype": "text/x-python",
   "name": "python",
   "nbconvert_exporter": "python",
   "pygments_lexer": "ipython3",
   "version": "3.9.12"
  }
 },
 "nbformat": 4,
 "nbformat_minor": 5
}
