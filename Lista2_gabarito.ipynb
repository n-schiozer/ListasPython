{
 "cells": [
  {
   "cell_type": "markdown",
   "id": "a865ab9f",
   "metadata": {},
   "source": [
    "# Lista 2 - Métodos computacionais para economistas"
   ]
  },
  {
   "cell_type": "markdown",
   "id": "dba8e47b-9ac7-4cf3-98e7-551b98ca0504",
   "metadata": {},
   "source": [
    "*NOME:*\n",
    "\n",
    "*NUSP:*\n",
    "\n",
    "*EMAIL:*"
   ]
  },
  {
   "cell_type": "markdown",
   "id": "27f785f1-ba80-48b9-9ad4-9f493a9d9107",
   "metadata": {},
   "source": [
    "**Informações gerais**\n",
    "\n",
    "**PRAZO DE ENTREGA**: ATÉ 23:59 DO DIA 15/09\n",
    "\n",
    "A entrega deve ser um arquivo Jupyter em formato HTML. Para salvar o arquivo dessa forma, a partir de \"File\", clique em \"Save and Export Notebook as ...\". Selecione a opção HTML.\n",
    "\n",
    "Prazo para enviar dúvidas/questionamentos/contestações/etc sobre enunciados ou qualquer outra coisa sobre esta lista: 23:59 DO DIA 13/09\n",
    "\n",
    "Monitor: Nikolas Schiozer\n",
    "\n",
    "E-mail: nikolas.s@usp.br"
   ]
  },
  {
   "cell_type": "markdown",
   "id": "3141522e",
   "metadata": {},
   "source": [
    "**Exercício 1**"
   ]
  },
  {
   "cell_type": "markdown",
   "id": "249d37f7",
   "metadata": {},
   "source": [
    "Quais os tipos de dados básicos (desconsidere os que medem a quantidade de memória utilizada) que já vem instaladas no Python que podem ser definidas utilizando apenas um item? Isto é, não são tipos sequenciais. Por exemplo: listas são um tipo de estrutura que para serem definidas necessariamente precisam de mais de um item. Dê um exemplo para cada uma das estruturas de dados básicas que vêm contidas na linguagem Python e podem ser definidas por apenas um único item."
   ]
  },
  {
   "cell_type": "code",
   "execution_count": 2,
   "id": "6baefb3b",
   "metadata": {},
   "outputs": [
    {
     "name": "stdout",
     "output_type": "stream",
     "text": [
      "São 5 tipos: str, bool, int,float e complex\n",
      "<class 'str'>\n",
      "<class 'str'>\n",
      "<class 'int'>\n",
      "<class 'int'>\n",
      "<class 'float'>\n",
      "<class 'float'>\n",
      "<class 'bool'>\n",
      "<class 'bool'>\n",
      "<class 'complex'>\n"
     ]
    }
   ],
   "source": [
    "print(\"São 5 tipos: str, bool, int,float e complex\")\n",
    "\n",
    "print(type('Hello world!'))\n",
    "print(type('10'))\n",
    "print(type(10))\n",
    "print(type(7591820397519203957091209302570))\n",
    "print(type(10.1))\n",
    "print(type(-87.7e100))\n",
    "print(type(True))\n",
    "print(type( 10 == '10'))\n",
    "print(type(3+5j))"
   ]
  },
  {
   "cell_type": "markdown",
   "id": "66bd29b9",
   "metadata": {},
   "source": [
    "**Exercício 2**"
   ]
  },
  {
   "cell_type": "markdown",
   "id": "9dc680dd",
   "metadata": {},
   "source": [
    "Faremos algumas exercícios utilizando o texto abaixo:"
   ]
  },
  {
   "cell_type": "code",
   "execution_count": 3,
   "id": "e0545fc8",
   "metadata": {},
   "outputs": [
    {
     "name": "stdout",
     "output_type": "stream",
     "text": [
      "No cenário de referência, a trajetória para a taxa de juros é extraída da pesquisa Focus e a taxa de câmbio parte de USD/BRL 5,302, evoluindo segundo a paridade do poder de compra (PPC). Esse cenário supõe trajetória de juros que termina 2022 em 13,75% a.a., reduz-se para 11,00% em 2023 e 8,00% em 2024. Supõe-se que o preço do petróleo segue aproximadamente a curva futura pelos próximos seis meses e passa a aumentar 2% ao ano posteriormente. Além disso, adota-se a hipótese de bandeira tarifária amarela em dezembro de 2022, de 2023 e de 2024. Nesse cenário, as projeções de inflação do Copom situam-se em 6,8% para 2022, 4,6% para 2023 e 2,7% para 2024. As projeções para a inflação de preços administrados são de -1,3% para 2022, 8,4% para 2023 e 3,6% para 2024. As projeções do cenário de referência incorporam o impacto das medidas tributárias recentemente aprovadas. Para o horizonte de seis trimestres à frente, que suaviza o efeito ano-calendário, mas incorpora os impactos secundários das medidas tributárias que incidem entre 2022 e o primeiro trimestre de 2023, a projeção de inflação acumulada em doze meses situa-se em 3,5%. O Comitê julga que a incerteza em torno das suas premissas e projeções atualmente é maior do que o usual.\n"
     ]
    }
   ],
   "source": [
    "text = \"No cenário de referência, a trajetória para a taxa de juros é extraída da pesquisa Focus e a taxa de câmbio parte de USD/BRL 5,302, evoluindo segundo a paridade do poder de compra (PPC). Esse cenário supõe trajetória de juros que termina 2022 em 13,75% a.a., reduz-se para 11,00% em 2023 e 8,00% em 2024. Supõe-se que o preço do petróleo segue aproximadamente a curva futura pelos próximos seis meses e passa a aumentar 2% ao ano posteriormente. Além disso, adota-se a hipótese de bandeira tarifária amarela em dezembro de 2022, de 2023 e de 2024. Nesse cenário, as projeções de inflação do Copom situam-se em 6,8% para 2022, 4,6% para 2023 e 2,7% para 2024. As projeções para a inflação de preços administrados são de -1,3% para 2022, 8,4% para 2023 e 3,6% para 2024. As projeções do cenário de referência incorporam o impacto das medidas tributárias recentemente aprovadas. Para o horizonte de seis trimestres à frente, que suaviza o efeito ano-calendário, mas incorpora os impactos secundários das medidas tributárias que incidem entre 2022 e o primeiro trimestre de 2023, a projeção de inflação acumulada em doze meses situa-se em 3,5%. O Comitê julga que a incerteza em torno das suas premissas e projeções atualmente é maior do que o usual.\"\n",
    "\n",
    "print(text)"
   ]
  },
  {
   "cell_type": "markdown",
   "id": "3b33b7dc",
   "metadata": {},
   "source": [
    "***Exer. 2.1***"
   ]
  },
  {
   "cell_type": "markdown",
   "id": "174b65ab",
   "metadata": {},
   "source": [
    "Descubra o número de palavras dentro de texto utilizando código Python. Para simplificar considere números (2022, -1,3%) também como palavras. Dica: utilize o método \"split\". A resposta deve ser o número de palavras presentes no texto. "
   ]
  },
  {
   "cell_type": "code",
   "execution_count": 97,
   "id": "9c76e2d8",
   "metadata": {},
   "outputs": [
    {
     "name": "stdout",
     "output_type": "stream",
     "text": [
      "['No', 'cenário', 'de', 'referência,', 'a', 'trajetória', 'para', 'a', 'taxa', 'de', 'juros', 'é', 'extraída', 'da', 'pesquisa', 'Focus', 'e', 'a', 'taxa', 'de', 'câmbio', 'parte', 'de', 'USD/BRL', '5,302,', 'evoluindo', 'segundo', 'a', 'paridade', 'do', 'poder', 'de', 'compra', '(PPC).', 'Esse', 'cenário', 'supõe', 'trajetória', 'de', 'juros', 'que', 'termina', '2022', 'em', '13,75%', 'a.a.,', 'reduz-se', 'para', '11,00%', 'em', '2023', 'e', '8,00%', 'em', '2024.', 'Supõe-se', 'que', 'o', 'preço', 'do', 'petróleo', 'segue', 'aproximadamente', 'a', 'curva', 'futura', 'pelos', 'próximos', 'seis', 'meses', 'e', 'passa', 'a', 'aumentar', '2%', 'ao', 'ano', 'posteriormente.', 'Além', 'disso,', 'adota-se', 'a', 'hipótese', 'de', 'bandeira', 'tarifária', 'amarela', 'em', 'dezembro', 'de', '2022,', 'de', '2023', 'e', 'de', '2024.', 'Nesse', 'cenário,', 'as', 'projeções', 'de', 'inflação', 'do', 'Copom', 'situam-se', 'em', '6,8%', 'para', '2022,', '4,6%', 'para', '2023', 'e', '2,7%', 'para', '2024.', 'As', 'projeções', 'para', 'a', 'inflação', 'de', 'preços', 'administrados', 'são', 'de', '-1,3%', 'para', '2022,', '8,4%', 'para', '2023', 'e', '3,6%', 'para', '2024.', 'As', 'projeções', 'do', 'cenário', 'de', 'referência', 'incorporam', 'o', 'impacto', 'das', 'medidas', 'tributárias', 'recentemente', 'aprovadas.', 'Para', 'o', 'horizonte', 'de', 'seis', 'trimestres', 'à', 'frente,', 'que', 'suaviza', 'o', 'efeito', 'ano-calendário,', 'mas', 'incorpora', 'os', 'impactos', 'secundários', 'das', 'medidas', 'tributárias', 'que', 'incidem', 'entre', '2022', 'e', 'o', 'primeiro', 'trimestre', 'de', '2023,', 'a', 'projeção', 'de', 'inflação', 'acumulada', 'em', 'doze', 'meses', 'situa-se', 'em', '3,5%.', 'O', 'Comitê', 'julga', 'que', 'a', 'incerteza', 'em', 'torno', 'das', 'suas', 'premissas', 'e', 'projeções', 'atualmente', 'é', 'maior', 'do', 'que', 'o', 'usual.']\n",
      "<class 'list'>\n"
     ]
    },
    {
     "data": {
      "text/plain": [
       "212"
      ]
     },
     "execution_count": 97,
     "metadata": {},
     "output_type": "execute_result"
    }
   ],
   "source": [
    "splited_text = text.split()\n",
    "\n",
    "print(splited_text)\n",
    "print(type(splited_text))\n",
    "\n",
    "len(splited_text)\n"
   ]
  },
  {
   "cell_type": "markdown",
   "id": "a98e22a8",
   "metadata": {},
   "source": [
    "***Exer. 2.2***"
   ]
  },
  {
   "cell_type": "markdown",
   "id": "bde925f6",
   "metadata": {},
   "source": [
    "Quantas vezes a palavra inflação aparece no texto? Dica: utilize um método que pode ser aplicado em listas."
   ]
  },
  {
   "cell_type": "code",
   "execution_count": 95,
   "id": "696390d6",
   "metadata": {},
   "outputs": [
    {
     "name": "stdout",
     "output_type": "stream",
     "text": [
      "3\n",
      "3\n"
     ]
    }
   ],
   "source": [
    "print(splited_text.count(\"inflação\"))\n",
    "\n",
    "print(text.count(\"inflação\"))"
   ]
  },
  {
   "cell_type": "markdown",
   "id": "0a083a2e",
   "metadata": {},
   "source": [
    "***Exer. 2.3***"
   ]
  },
  {
   "cell_type": "markdown",
   "id": "0de0c558",
   "metadata": {},
   "source": [
    "Utilize o print para mostrar:\n",
    "o texto inteiro com letras maiúsculas,\n",
    "o texto inteiro com letras minúsculas e\n",
    "os últimos 50 caracteres do texto"
   ]
  },
  {
   "cell_type": "code",
   "execution_count": 106,
   "id": "edc6a971",
   "metadata": {},
   "outputs": [
    {
     "name": "stdout",
     "output_type": "stream",
     "text": [
      "NO CENÁRIO DE REFERÊNCIA, A TRAJETÓRIA PARA A TAXA DE JUROS É EXTRAÍDA DA PESQUISA FOCUS E A TAXA DE CÂMBIO PARTE DE USD/BRL 5,302, EVOLUINDO SEGUNDO A PARIDADE DO PODER DE COMPRA (PPC). ESSE CENÁRIO SUPÕE TRAJETÓRIA DE JUROS QUE TERMINA 2022 EM 13,75% A.A., REDUZ-SE PARA 11,00% EM 2023 E 8,00% EM 2024. SUPÕE-SE QUE O PREÇO DO PETRÓLEO SEGUE APROXIMADAMENTE A CURVA FUTURA PELOS PRÓXIMOS SEIS MESES E PASSA A AUMENTAR 2% AO ANO POSTERIORMENTE. ALÉM DISSO, ADOTA-SE A HIPÓTESE DE BANDEIRA TARIFÁRIA AMARELA EM DEZEMBRO DE 2022, DE 2023 E DE 2024. NESSE CENÁRIO, AS PROJEÇÕES DE INFLAÇÃO DO COPOM SITUAM-SE EM 6,8% PARA 2022, 4,6% PARA 2023 E 2,7% PARA 2024. AS PROJEÇÕES PARA A INFLAÇÃO DE PREÇOS ADMINISTRADOS SÃO DE -1,3% PARA 2022, 8,4% PARA 2023 E 3,6% PARA 2024. AS PROJEÇÕES DO CENÁRIO DE REFERÊNCIA INCORPORAM O IMPACTO DAS MEDIDAS TRIBUTÁRIAS RECENTEMENTE APROVADAS. PARA O HORIZONTE DE SEIS TRIMESTRES À FRENTE, QUE SUAVIZA O EFEITO ANO-CALENDÁRIO, MAS INCORPORA OS IMPACTOS SECUNDÁRIOS DAS MEDIDAS TRIBUTÁRIAS QUE INCIDEM ENTRE 2022 E O PRIMEIRO TRIMESTRE DE 2023, A PROJEÇÃO DE INFLAÇÃO ACUMULADA EM DOZE MESES SITUA-SE EM 3,5%. O COMITÊ JULGA QUE A INCERTEZA EM TORNO DAS SUAS PREMISSAS E PROJEÇÕES ATUALMENTE É MAIOR DO QUE O USUAL.\n",
      " \n",
      "no cenário de referência, a trajetória para a taxa de juros é extraída da pesquisa focus e a taxa de câmbio parte de usd/brl 5,302, evoluindo segundo a paridade do poder de compra (ppc). esse cenário supõe trajetória de juros que termina 2022 em 13,75% a.a., reduz-se para 11,00% em 2023 e 8,00% em 2024. supõe-se que o preço do petróleo segue aproximadamente a curva futura pelos próximos seis meses e passa a aumentar 2% ao ano posteriormente. além disso, adota-se a hipótese de bandeira tarifária amarela em dezembro de 2022, de 2023 e de 2024. nesse cenário, as projeções de inflação do copom situam-se em 6,8% para 2022, 4,6% para 2023 e 2,7% para 2024. as projeções para a inflação de preços administrados são de -1,3% para 2022, 8,4% para 2023 e 3,6% para 2024. as projeções do cenário de referência incorporam o impacto das medidas tributárias recentemente aprovadas. para o horizonte de seis trimestres à frente, que suaviza o efeito ano-calendário, mas incorpora os impactos secundários das medidas tributárias que incidem entre 2022 e o primeiro trimestre de 2023, a projeção de inflação acumulada em doze meses situa-se em 3,5%. o comitê julga que a incerteza em torno das suas premissas e projeções atualmente é maior do que o usual.\n",
      " \n",
      "sas e projeções atualmente é maior do que o usual.\n",
      "ssas e projeções atualmente é maior do que o usual\n",
      "10\n"
     ]
    },
    {
     "data": {
      "text/plain": [
       "[1, 2, 3]"
      ]
     },
     "execution_count": 106,
     "metadata": {},
     "output_type": "execute_result"
    }
   ],
   "source": [
    "# Letras maiúsculas\n",
    "\n",
    "print(text.upper())\n",
    "\n",
    "print(\" \")\n",
    "\n",
    "# Letras minúsculas\n",
    "\n",
    "print(text.lower())\n",
    "\n",
    "print(\" \")\n",
    "\n",
    "# Últimos caracteres\n",
    "\n",
    "print(text[-50:])\n",
    "print(text[-51:-1])\n",
    "\n"
   ]
  },
  {
   "cell_type": "markdown",
   "id": "1771ef9d",
   "metadata": {},
   "source": [
    "***Exer. 2.4***"
   ]
  },
  {
   "cell_type": "markdown",
   "id": "9ba01ff1",
   "metadata": {},
   "source": [
    "Coloque a 18º palavra, um espaço de tipo *string* e a 36º palavra dentro de uma lista, exatamente nesta ordem. Concatene todos os itens presentes na lista. Como resposta dê um print dos itens *strs* concatenados."
   ]
  },
  {
   "cell_type": "code",
   "execution_count": 112,
   "id": "9356321e",
   "metadata": {},
   "outputs": [
    {
     "name": "stdout",
     "output_type": "stream",
     "text": [
      "<class 'str'>\n",
      "a cenário\n"
     ]
    }
   ],
   "source": [
    "lista = [splited_text[17],\" \",splited_text[35]]\n",
    "\n",
    "concat = lista[0] + lista[1] + lista[2]\n",
    "\n",
    "print(type(concat))\n",
    "\n",
    "print(concat)"
   ]
  },
  {
   "cell_type": "markdown",
   "id": "43285450-0af9-4cc3-8182-3c631ed0d2e6",
   "metadata": {},
   "source": [
    "Substitua o segundo item da lista anterior pelo item 128º do texto.\n",
    "Além disso, adicione a lista a 189º palavra. Dê um print da nova lista como resposta"
   ]
  },
  {
   "cell_type": "code",
   "execution_count": 8,
   "id": "aa64f92b-78e8-487e-b86a-54e77d0f8324",
   "metadata": {},
   "outputs": [
    {
     "name": "stdout",
     "output_type": "stream",
     "text": [
      "['a', 'para', 'cenário', 'meses']\n"
     ]
    }
   ],
   "source": [
    "lista[1] = splited_text[127]\n",
    "\n",
    "lista.append(splited_text[188])\n",
    "\n",
    "print(lista)\n"
   ]
  },
  {
   "cell_type": "markdown",
   "id": "36bf2fb5",
   "metadata": {},
   "source": [
    "***Exer. 2.5***"
   ]
  },
  {
   "cell_type": "markdown",
   "id": "538fc03d",
   "metadata": {},
   "source": [
    "Encontre todos os números dentro do texto que possuem casas decimais. Utilize o método de \"findall\" da biblioteca \"regular expressions\" (re) para isso. Dê um print do resultado como resposta. Dica: dentro da expressão regular deverá conter \",\"."
   ]
  },
  {
   "cell_type": "code",
   "execution_count": 125,
   "id": "0a87c628",
   "metadata": {},
   "outputs": [
    {
     "name": "stdout",
     "output_type": "stream",
     "text": [
      "['1,1%']\n",
      "['5,302', '13,75', '11,00', '8,00', '6,8', '4,6', '2,7', '1,3', '8,4', '3,6', '3,5']\n"
     ]
    }
   ],
   "source": [
    "import re\n",
    "\n",
    "m = re.findall('[0-9]{1,3},[0-9]{1,3}',text)\n",
    "\n",
    "print(m)"
   ]
  },
  {
   "cell_type": "markdown",
   "id": "4d3add88",
   "metadata": {},
   "source": [
    "***Exer. 2.6***"
   ]
  },
  {
   "cell_type": "markdown",
   "id": "299a23be",
   "metadata": {},
   "source": [
    "Substitua todos os números com casas decimais no texto por \"100\". Como resposta forneça como output o texto após a substituição e o número de vezes que o número 100 aparece no novo texto."
   ]
  },
  {
   "cell_type": "code",
   "execution_count": 10,
   "id": "7769efae",
   "metadata": {},
   "outputs": [
    {
     "name": "stdout",
     "output_type": "stream",
     "text": [
      "No cenário de referência, a trajetória para a taxa de juros é extraída da pesquisa Focus e a taxa de câmbio parte de USD/BRL 100, evoluindo segundo a paridade do poder de compra (PPC). Esse cenário supõe trajetória de juros que termina 2022 em 100% a.a., reduz-se para 100% em 2023 e 100% em 2024. Supõe-se que o preço do petróleo segue aproximadamente a curva futura pelos próximos seis meses e passa a aumentar 2% ao ano posteriormente. Além disso, adota-se a hipótese de bandeira tarifária amarela em dezembro de 2022, de 2023 e de 2024. Nesse cenário, as projeções de inflação do Copom situam-se em 100% para 2022, 100% para 2023 e 100% para 2024. As projeções para a inflação de preços administrados são de -100% para 2022, 100% para 2023 e 100% para 2024. As projeções do cenário de referência incorporam o impacto das medidas tributárias recentemente aprovadas. Para o horizonte de seis trimestres à frente, que suaviza o efeito ano-calendário, mas incorpora os impactos secundários das medidas tributárias que incidem entre 2022 e o primeiro trimestre de 2023, a projeção de inflação acumulada em doze meses situa-se em 100%. O Comitê julga que a incerteza em torno das suas premissas e projeções atualmente é maior do que o usual.\n",
      "11\n"
     ]
    }
   ],
   "source": [
    "texto2 = re.sub('[0-9]{1,3},[0-9]{1,3}','100',text)\n",
    "\n",
    "print(texto2)\n",
    "\n",
    "num_100 = len(re.findall('100',texto2))\n",
    "\n",
    "print(num_100)"
   ]
  },
  {
   "cell_type": "markdown",
   "id": "37f571c1",
   "metadata": {},
   "source": [
    "***Exercício 3***"
   ]
  },
  {
   "cell_type": "markdown",
   "id": "cfcfd3a2",
   "metadata": {},
   "source": [
    "Você é responsável por preparar um relatório automatizado sobre a evolução de um índice de preços de alimentos.\n",
    "\n",
    "No próximo bloco de código temos três listas que devem ser utilizadas. Determine utilizando código Python:\n",
    "\n",
    "<ul>\n",
    " <li>a taxa de variação do índice de preços</li>\n",
    " <li>qual item que teve a maior alta de preços</li>\n",
    " </ul>\n",
    "\n",
    "Dica: pesquise sobre o método *index* e função *max*. \n",
    "\n",
    "\n",
    "Prepare um código Python para que, apenas alterando os valores dos inputs presentes nas listas, automaticamente a frase abaixo é atualizada:\n",
    "\n",
    "*O índice de preços dos alimentos variou Z%. \n",
    "O item que mais aumentou foi X,variando cerca de Y%.*\n",
    "\n",
    "Todos os número em porcentagem devem ser arredondados em duas casas decimais se necessário. Para ficar claro, com os inputs dados, o código deve gerar o seguinte output:\n",
    "\n",
    "*O índice de preços dos alimentos variou 2.78%. \n",
    "O item que mais aumentou foi Carnes,\n",
    "variando cerca de 5.23%.*\n",
    "\n",
    "A resposta do exercício deve ser o output acima, gerado a partir de um código Python que permita que apenas alterando os inputs a frase é automaticamente atualizada."
   ]
  },
  {
   "cell_type": "code",
   "execution_count": 130,
   "id": "6946ede7",
   "metadata": {},
   "outputs": [
    {
     "name": "stdout",
     "output_type": "stream",
     "text": [
      "0.0278\n",
      "O índice de preços dos alimentos variou 2.78%. \n",
      "O item que mais aumentou foi Carnes,\n",
      "variando cerca de 5.23%.\n"
     ]
    }
   ],
   "source": [
    "# Importação de pacote\n",
    "\n",
    "import numpy as np\n",
    "\n",
    "# Listas\n",
    "\n",
    "var   = [ 0.0523, 0.0 , 0.0228 ] # Taxa de variação dos três itens que compõem o índice de preços\n",
    "peso  = [ 0.4 , 0.3 , 0.3 ] # Peso dos itens no índice \n",
    "nomes = [ \"Carnes\",\"Hortaliças\",\"Grãos\" ] # Nome dos itens que compõem o índice de preços\n",
    "\n",
    "#  Cálculo do índice\n",
    "\n",
    "var_ar  = np.array(var)\n",
    "peso_ar = np.array(peso)\n",
    " \n",
    "index = round(sum( var_ar * peso_ar ),4)\n",
    "\n",
    "# Determinação do valor máximo na lista\n",
    "\n",
    "pos_max = var.index(max(var_ar))\n",
    "\n",
    "# Print do texto\n",
    "\n",
    "print(f'''O índice de preços dos alimentos variou {index*100}%. \n",
    "O item que mais aumentou foi {nomes[pos_max]},\n",
    "variando cerca de {round(var[pos_max]*100,4)}%.''')\n",
    "\n"
   ]
  },
  {
   "cell_type": "code",
   "execution_count": 12,
   "id": "fb638499-29ad-4855-93bc-c8d53a1a2060",
   "metadata": {},
   "outputs": [
    {
     "name": "stdout",
     "output_type": "stream",
     "text": [
      "['1,1%', '11,1%']\n"
     ]
    }
   ],
   "source": []
  }
 ],
 "metadata": {
  "kernelspec": {
   "display_name": "Python 3 (ipykernel)",
   "language": "python",
   "name": "python3"
  },
  "language_info": {
   "codemirror_mode": {
    "name": "ipython",
    "version": 3
   },
   "file_extension": ".py",
   "mimetype": "text/x-python",
   "name": "python",
   "nbconvert_exporter": "python",
   "pygments_lexer": "ipython3",
   "version": "3.9.12"
  }
 },
 "nbformat": 4,
 "nbformat_minor": 5
}
