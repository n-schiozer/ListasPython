{
 "cells": [
  {
   "cell_type": "markdown",
   "id": "c6765994-bf48-45bf-a93a-03de78c58420",
   "metadata": {},
   "source": [
    "# Lista 4 - Métodos computacionais para economistas"
   ]
  },
  {
   "cell_type": "markdown",
   "id": "b2748a9f-0615-4ad2-be58-55cd0c942d35",
   "metadata": {},
   "source": [
    "*NOME:*\n",
    "\n",
    "*NUSP:*\n",
    "\n",
    "*EMAIL:*"
   ]
  },
  {
   "cell_type": "markdown",
   "id": "f405693b-3426-4676-8301-034113253537",
   "metadata": {},
   "source": [
    "**Informações gerais**\n",
    "\n",
    "**PRAZO DE ENTREGA**: ATÉ 23:59 DO DIA 13/10\n",
    "\n",
    "A entrega deve ser esta lista, com as respostas preenchidas nos espaços disponíveis, em formato **HTML**. Para salvar o arquivo dessa forma, a partir de \"File\", clique em \"Save and Export Notebook as ...\". Selecione a opção HTML.\n",
    "\n",
    "### Não serão aceitos arquivos que não estejam em formato HTML.\n",
    "\n",
    "### Não serão aceitas entregas por email, apenas pelo *MOODLE*.\n",
    "\n",
    "Prazo para enviar dúvidas/questionamentos/contestações/etc sobre enunciados ou qualquer outra coisa sobre esta lista: 23:59 DO DIA 11/10\n",
    "\n",
    "Monitor: Nikolas Schiozer\n",
    "\n",
    "E-mail: nikolas.s@usp.br"
   ]
  },
  {
   "cell_type": "markdown",
   "id": "0277c2c2-22c7-4f12-8cdc-f8b2b2b8855d",
   "metadata": {},
   "source": [
    "**Exercício 1**"
   ]
  },
  {
   "cell_type": "markdown",
   "id": "d12f9717-ec57-4e75-9ecb-0224933a3121",
   "metadata": {},
   "source": [
    "Escreva uma função Python que cria e dá como resposta um print de uma lista dos valores quadrados dos números naturais entre 1 e X (ambos incluídos). O valor X deve ser um argumento da função. Como resposta, execute a função escrita considerando  X = 10."
   ]
  },
  {
   "cell_type": "code",
   "execution_count": null,
   "id": "6c3bdf09-043e-4013-82e6-7df40e22b1cc",
   "metadata": {},
   "outputs": [],
   "source": []
  },
  {
   "cell_type": "markdown",
   "id": "43659cd2-96a3-41ef-9f7d-5a1857cebbcd",
   "metadata": {},
   "source": [
    "**Exercício 2**"
   ]
  },
  {
   "cell_type": "markdown",
   "id": "86f07974-5537-416a-b9ad-0e236aa30e6e",
   "metadata": {},
   "source": [
    "Definindo: \n",
    "\n",
    "$ VF = $ valor final ,\n",
    "\n",
    "$ VP = $valor presente ,\n",
    "\n",
    "$ i = $taxa de juros ,\n",
    "\n",
    "$ m = $maturidade , \n",
    "\n",
    "$ IPCA = $taxa de inflação anual , \n",
    "\n",
    " e utilizando as seguintes fórmulas:\n",
    "\n",
    "$ VF_{cdb} = ( 1 + i_{cdb} )^m  VP_{cdb}  [1] $\n",
    "\n",
    "$ VF_{ntnb} = (1 + i_{ntnb})^m * ( 1 + IPCA)^m * VP_{ntnb}  [2] $\n",
    "\n",
    "\n",
    "crie uma função para descobrir o **valor presente** de um título de renda fixa. A função deve considerar a possibilidade do título ser pré-fixado (equação [1]) ou pós-fixado (equação [2]). Se o título é pré-fixado não é necessário considerar o argumento \"taxa de inflação anual\" para o cálculo do valor do valor de seu valor presente. Por isso, escreva uma função em que se a variável \"taxa de inflação anual\" não está presente entre os argumentos automaticamente é interpretado que o título é pré-fixado.\n",
    "\n",
    "Depois de escrita a função, considere dois títulos:\n",
    "\n",
    "*Título 1:*\n",
    "\n",
    "Valor final = R$ 3.000.000,00\n",
    "\n",
    "Maturidade = 4 anos\n",
    "\n",
    "Taxa de juros = 10,00 \\%\n",
    "\n",
    "*Título 2:*\n",
    "\n",
    "Valor final = R$ 4.000.000,00\n",
    "\n",
    "Maturidade = 10 anos\n",
    "\n",
    "Taxa de juros = 4,00 \\%\n",
    "\n",
    "Taxa de inflação anual = 3,00\\%\n",
    "\n",
    "\n",
    "Utilizando a função escrita, descubra qual dos dois títulos possui o menor valor presente."
   ]
  },
  {
   "cell_type": "code",
   "execution_count": null,
   "id": "a5daeaf8-fcc6-4f91-a951-441a5d73b3cf",
   "metadata": {},
   "outputs": [],
   "source": []
  },
  {
   "cell_type": "markdown",
   "id": "5a107e24-cf28-43c2-a6fb-25f389ea5d96",
   "metadata": {},
   "source": [
    "**Exercício 3**"
   ]
  },
  {
   "cell_type": "markdown",
   "id": "b12e0b32-3aa4-4b3a-9d69-96c1e312c71b",
   "metadata": {},
   "source": [
    "Vamos novamente trabalhar com o dicionário dos funcionários da última lista. Defina, novamente, o dicionário com as seguintes chaves-valor: chave[1]: nome. Valor[1]: Maria, João, Luisa, Pedro. chave[2]: sobrenome. Valor[2]:Garcia,Magalhães,da Silva,Rossi. Chave[3]: salário. Valor[3]: 5000,4000,3000,2000\n",
    "\n",
    "Além disso, vamos usar novas informações. Usando os dados do último Censo Demográfico (https://ibge.gov.br/censo2010/apps/nomes/#/ranking), de 2010, os 10 nomes masculinos mais populares entre os nascidos na década de 2000 são, em ordem decrescente, João, Gabriel, Lucas, Pedro, Mateus, Jose, Gustavo, Guilherme, Carlos e Vitor. Já os femininos são Maria, Ana, Vitoria, Julia, Leticia, Amanda, Beatriz, Larissa, Gabriela e Mariana.\n",
    "\n",
    "Já segundo o site \"maiores e melhores\" (https://www.maioresemelhores.com/sobrenomes-mais-comuns-no-brasil/#:~:text=Silva%2C%20Santos%20e%20Oliveira%20s%C3%A3o%20os%20tr%C3%AAs%20sobrenomes,portuguesa%20e%20remontam%20o%20per%C3%ADodo%20colonial%20do%20pa%C3%ADs), o 10 sobrenomes mais comuns no Brasil são, em ordem decrescente, Silva, Santos, Oliveira, Souza, Rodrigues, Ferreira, Alves, Pereira, Lima e Gomes.\n"
   ]
  },
  {
   "cell_type": "markdown",
   "id": "c3d190dc-b0c2-4cb6-be82-961e4c9d411b",
   "metadata": {},
   "source": [
    "**Item 3.1**"
   ]
  },
  {
   "cell_type": "markdown",
   "id": "0594a8f6-807e-4c1f-91ff-be84f2df408c",
   "metadata": {},
   "source": [
    "Crie uma função para incorporar um novo funcionário no dicionário que guarda as informações dos colaboradores  da empresa. Os argumentos da função devem ser o nome, sobrenome e salário do novo funcionário. A função também deve executar um \"print\" com a seguinte mensagem \"O colaborador 'Nome''Sobrenome', com salário de 'Salário', foi adicionado ao dicionário.\". \n",
    "\n",
    "Como resposta, execute a função escrita considerando os argumentos \"João\",\"Silva\" e 1000. Dê um print no dicionário para verificar se, de fato, o dicionário foi atualizado pela nova função e contêm as novas informações."
   ]
  },
  {
   "cell_type": "code",
   "execution_count": 3,
   "id": "fc2fc49b-0590-4493-b21a-b100e913f366",
   "metadata": {},
   "outputs": [],
   "source": [
    "d = {'nome' : ['Maria', 'João', 'Luisa', 'Pedro'] , 'sobrenome' : ['Garcia','Magalhães','da Silva','Rossi'], 'salário' : [5000,4000,3000,2000]}\n",
    "\n"
   ]
  },
  {
   "cell_type": "markdown",
   "id": "e0666ae7-6e69-450c-83cd-c10136780b73",
   "metadata": {},
   "source": [
    "**Item 3.2**"
   ]
  },
  {
   "cell_type": "markdown",
   "id": "b7ad17dd-7821-46bc-8008-04df1c6debd1",
   "metadata": {},
   "source": [
    "Vamos criar agora um gerador de colaboladores. Importe o pacote \"random\". O método \"choice\" presente nesse pacote permite sortear elementos contidos dentro de uma lista. Crie uma função que a partir de uma lista de nomes, sobrenomes, um valor máximo e um valor mínimo para salários, faça o seguinte:\n",
    "\n",
    "- Sorteia um nome\n",
    "- Sorteia um sobrenome\n",
    "- A partir de uma distribuição uniforme, considerando os valores de máximo e mínimo presentes como argumentos da função, sorteia um valor aleatório para o salário.\n",
    "- Converte o tipo do salário de \"np.array\" para \"float\" utilizando a função \"float()\". *Não é obrigatório, é uma sugestão*\n",
    "- Arredonda o valor do salário para ter 0 casas decimais.\n",
    "- Usando a função criada no item anterior e com os objetos sorteados (nome, sobrenome,salário) adiciona o novo colaborador ao dicinário.\n",
    "\n",
    "Utilizando todos os nomes, masculinos e femininos, presentes no enunciado, os sobrenomes, como valor máximo para o salário 5000 e mínimo 2000, crie um *for-loop* para adicionar no dicionário 20 funcionários.  "
   ]
  },
  {
   "cell_type": "code",
   "execution_count": 4,
   "id": "89bd0f1a-57fd-4d62-b833-a36db3f6fb0f",
   "metadata": {},
   "outputs": [],
   "source": [
    "import random as rd\n",
    "import numpy as np\n",
    "\n",
    "nomes = ['João',' Gabriel', 'Lucas', 'Pedro', 'Mateus', 'Jose', 'Gustavo',' Guilherme', 'Carlos','Vitor','Maria',\n",
    "         'Ana', 'Vitoria', 'Julia', 'Leticia', 'Amanda',' Beatriz',' Larissa', 'Gabriela',' Mariana']\n",
    "\n",
    "sobrenomes = ['Silva', 'Santos', 'Oliveira', 'Souza', 'Rodrigues', 'Ferreira', 'Alves', 'Pereira', 'Lima','Gomes']\n",
    "\n",
    "d = {'nome' : ['Maria', 'João', 'Luisa', 'Pedro'] , 'sobrenome' : ['Garcia','Magalhães','da Silva','Rossi'], 'salário' : [5000,4000,3000,2000]}\n",
    "\n",
    "\n",
    "    \n",
    "    "
   ]
  }
 ],
 "metadata": {
  "kernelspec": {
   "display_name": "Python 3 (ipykernel)",
   "language": "python",
   "name": "python3"
  },
  "language_info": {
   "codemirror_mode": {
    "name": "ipython",
    "version": 3
   },
   "file_extension": ".py",
   "mimetype": "text/x-python",
   "name": "python",
   "nbconvert_exporter": "python",
   "pygments_lexer": "ipython3",
   "version": "3.9.12"
  }
 },
 "nbformat": 4,
 "nbformat_minor": 5
}
